{
 "cells": [
  {
   "cell_type": "code",
   "execution_count": 2,
   "metadata": {},
   "outputs": [
    {
     "ename": "",
     "evalue": "",
     "output_type": "error",
     "traceback": [
      "\u001b[1;31mThe Kernel crashed while executing code in the current cell or a previous cell. \n",
      "\u001b[1;31mPlease review the code in the cell(s) to identify a possible cause of the failure. \n",
      "\u001b[1;31mClick <a href='https://aka.ms/vscodeJupyterKernelCrash'>here</a> for more info. \n",
      "\u001b[1;31mView Jupyter <a href='command:jupyter.viewOutput'>log</a> for further details."
     ]
    }
   ],
   "source": [
    "import scanpy as sc\n",
    "import numpy as np\n",
    "orig_path=\"/scratch/saigum/PerturbationPredictionUsingGeneNetworks/vcc_data/adata_Training.h5ad\"\n",
    "data_path=\"/scratch/saigum/PerturbationPredictionUsingGeneNetworks/vcc_data/arc/perturb_processed.h5ad\"\n",
    "adata = sc.read_h5ad(orig_path)\n",
    "adata.obs[\"condition\"] = adata.obs[\"target_gene\"]\n",
    "adata.obs[\"condition\"] = (\n",
    "    adata.obs[\"target_gene\"].replace(\"non-targeting\",\"ctrl\")\n",
    ")\n",
    "adata.obs[\"condition\"]=adata.obs['condition'].cat.rename_categories({cat:f\"ctrl+{cat}\" for cat in adata.obs.condition.cat.categories if cat != \"ctrl\"})\n",
    "adata.var[\"gene_name\"] = adata.var.index.values\n",
    "adata.obs[\"cell_type\"] = \"h1_ESC\"\n",
    "adata.obs[\"dose_val\"] = np.where(adata.obs[\"condition\"] == \"ctrl\", \"1\", \"1+1\")\n",
    "adata.obs[\"condition_name\"] = adata.obs[\"cell_type\"].astype(str)+\"_\"+ adata.obs[\"condition\"].astype(str) + \"_\" + adata.obs[\"dose_val\"].astype(str) \n",
    "adata.write_h5ad(filename=data_path)\n",
    "print(adata)\n",
    "print(adata.obs)\n",
    "del adata"
   ]
  },
  {
   "cell_type": "code",
   "execution_count": 2,
   "metadata": {},
   "outputs": [],
   "source": [
    "import scanpy as sc\n",
    "data_path=\"/scratch/saigum/PerturbationPredictionUsingGeneNetworks/vcc_data/arc/perturb_processed.h5ad\"\n",
    "adata = sc.read_h5ad(data_path)\n",
    "import pickle as pk\n",
    "with open(\"/scratch/saigum/PerturbationPredictionUsingGeneNetworks/vcc_data/gene2go_all.pkl\",\"rb\") as f:\n",
    "    datago = pk.load(f)"
   ]
  },
  {
   "cell_type": "code",
   "execution_count": 3,
   "metadata": {},
   "outputs": [
    {
     "name": "stdout",
     "output_type": "stream",
     "text": [
      "17525\n"
     ]
    }
   ],
   "source": [
    "\n",
    "key_set = set(datago.keys())\n",
    "genes = set(adata.var_names)         # O(n)\n",
    "common  = genes & key_set            # O(min(n, m))\n",
    "count   = len(common)\n",
    "\n",
    "print(count)\n"
   ]
  },
  {
   "cell_type": "code",
   "execution_count": 5,
   "metadata": {},
   "outputs": [
    {
     "name": "stdout",
     "output_type": "stream",
     "text": [
      "                        condition cell_type dose_val  control  \\\n",
      "cell_barcode                                                    \n",
      "AAACCTGAGGCATGTG-1   TSC22D1+ctrl      A549      1+1        0   \n",
      "AAACCTGAGGCCCTTG-1    KLF1+MAP2K6      A549      1+1        0   \n",
      "AAACCTGCACGAAGCA-1           ctrl      A549        1        1   \n",
      "AAACCTGCAGACGTAG-1  CEBPE+RUNX1T1      A549      1+1        0   \n",
      "AAACCTGCAGCCTTGG-1     MAML2+ctrl      A549      1+1        0   \n",
      "...                           ...       ...      ...      ...   \n",
      "TTTGTCAGTCATGCAT-8   RHOXF2BB+SET      A549      1+1        0   \n",
      "TTTGTCATCAGTACGT-8     FOXA3+ctrl      A549      1+1        0   \n",
      "TTTGTCATCCACTCCA-8     CELF2+ctrl      A549      1+1        0   \n",
      "TTTGTCATCCCAACGG-8    BCORL1+ctrl      A549      1+1        0   \n",
      "TTTGTCATCTGGCGAC-8    MAP4K3+ctrl      A549      1+1        0   \n",
      "\n",
      "                            condition_name  \n",
      "cell_barcode                                \n",
      "AAACCTGAGGCATGTG-1   A549_TSC22D1+ctrl_1+1  \n",
      "AAACCTGAGGCCCTTG-1    A549_KLF1+MAP2K6_1+1  \n",
      "AAACCTGCACGAAGCA-1             A549_ctrl_1  \n",
      "AAACCTGCAGACGTAG-1  A549_CEBPE+RUNX1T1_1+1  \n",
      "AAACCTGCAGCCTTGG-1     A549_MAML2+ctrl_1+1  \n",
      "...                                    ...  \n",
      "TTTGTCAGTCATGCAT-8   A549_RHOXF2BB+SET_1+1  \n",
      "TTTGTCATCAGTACGT-8     A549_FOXA3+ctrl_1+1  \n",
      "TTTGTCATCCACTCCA-8     A549_CELF2+ctrl_1+1  \n",
      "TTTGTCATCCCAACGG-8    A549_BCORL1+ctrl_1+1  \n",
      "TTTGTCATCTGGCGAC-8    A549_MAP4K3+ctrl_1+1  \n",
      "\n",
      "[91205 rows x 5 columns]\n"
     ]
    }
   ],
   "source": [
    "import scanpy as sc \n",
    "test = sc.read_h5ad(\"/scratch/saigum/PerturbationPredictionUsingGeneNetworks/demo/data/norman/perturb_processed.h5ad\")\n",
    "print(test.obs)"
   ]
  },
  {
   "cell_type": "code",
   "execution_count": 7,
   "metadata": {},
   "outputs": [],
   "source": [
    "test.obs[\"condition_name_2\"] = test.obs[\"cell_type\"].astype(str)+\"_\"+ test.obs[\"condition\"].astype(str) + \"_\" + test.obs[\"dose_val\"].astype(str) \n"
   ]
  },
  {
   "cell_type": "code",
   "execution_count": 11,
   "metadata": {},
   "outputs": [
    {
     "data": {
      "text/plain": [
       "np.int64(91205)"
      ]
     },
     "execution_count": 11,
     "metadata": {},
     "output_type": "execute_result"
    }
   ],
   "source": [
    "(test.obs[\"condition_name_2\"] == test.obs[\"condition_name\"]).sum()"
   ]
  },
  {
   "cell_type": "code",
   "execution_count": 2,
   "metadata": {},
   "outputs": [
    {
     "data": {
      "text/html": [
       "<div>\n",
       "<style scoped>\n",
       "    .dataframe tbody tr th:only-of-type {\n",
       "        vertical-align: middle;\n",
       "    }\n",
       "\n",
       "    .dataframe tbody tr th {\n",
       "        vertical-align: top;\n",
       "    }\n",
       "\n",
       "    .dataframe thead th {\n",
       "        text-align: right;\n",
       "    }\n",
       "</style>\n",
       "<table border=\"1\" class=\"dataframe\">\n",
       "  <thead>\n",
       "    <tr style=\"text-align: right;\">\n",
       "      <th></th>\n",
       "      <th>gene_name</th>\n",
       "    </tr>\n",
       "    <tr>\n",
       "      <th>gene_id</th>\n",
       "      <th></th>\n",
       "    </tr>\n",
       "  </thead>\n",
       "  <tbody>\n",
       "    <tr>\n",
       "      <th>ENSG00000239945</th>\n",
       "      <td>RP11-34P13.8</td>\n",
       "    </tr>\n",
       "    <tr>\n",
       "      <th>ENSG00000223764</th>\n",
       "      <td>RP11-54O7.3</td>\n",
       "    </tr>\n",
       "    <tr>\n",
       "      <th>ENSG00000187634</th>\n",
       "      <td>SAMD11</td>\n",
       "    </tr>\n",
       "    <tr>\n",
       "      <th>ENSG00000187642</th>\n",
       "      <td>PERM1</td>\n",
       "    </tr>\n",
       "    <tr>\n",
       "      <th>ENSG00000188290</th>\n",
       "      <td>HES4</td>\n",
       "    </tr>\n",
       "    <tr>\n",
       "      <th>...</th>\n",
       "      <td>...</td>\n",
       "    </tr>\n",
       "    <tr>\n",
       "      <th>ENSG00000198786</th>\n",
       "      <td>MT-ND5</td>\n",
       "    </tr>\n",
       "    <tr>\n",
       "      <th>ENSG00000198695</th>\n",
       "      <td>MT-ND6</td>\n",
       "    </tr>\n",
       "    <tr>\n",
       "      <th>ENSG00000198727</th>\n",
       "      <td>MT-CYB</td>\n",
       "    </tr>\n",
       "    <tr>\n",
       "      <th>ENSG00000273554</th>\n",
       "      <td>AC136616.1</td>\n",
       "    </tr>\n",
       "    <tr>\n",
       "      <th>ENSG00000278633</th>\n",
       "      <td>AC023491.2</td>\n",
       "    </tr>\n",
       "  </tbody>\n",
       "</table>\n",
       "<p>5045 rows × 1 columns</p>\n",
       "</div>"
      ],
      "text/plain": [
       "                    gene_name\n",
       "gene_id                      \n",
       "ENSG00000239945  RP11-34P13.8\n",
       "ENSG00000223764   RP11-54O7.3\n",
       "ENSG00000187634        SAMD11\n",
       "ENSG00000187642         PERM1\n",
       "ENSG00000188290          HES4\n",
       "...                       ...\n",
       "ENSG00000198786        MT-ND5\n",
       "ENSG00000198695        MT-ND6\n",
       "ENSG00000198727        MT-CYB\n",
       "ENSG00000273554    AC136616.1\n",
       "ENSG00000278633    AC023491.2\n",
       "\n",
       "[5045 rows x 1 columns]"
      ]
     },
     "execution_count": 2,
     "metadata": {},
     "output_type": "execute_result"
    }
   ],
   "source": [
    "test.var"
   ]
  },
  {
   "cell_type": "code",
   "execution_count": 1,
   "metadata": {},
   "outputs": [
    {
     "name": "stderr",
     "output_type": "stream",
     "text": [
      "/scratch/saigum/PerturbationPredictionUsingGeneNetworks/perturb/lib/python3.13/site-packages/numba/np/ufunc/parallel.py:371: NumbaWarning: The TBB threading layer requires TBB version 2021 update 6 or later i.e., TBB_INTERFACE_VERSION >= 12060. Found TBB_INTERFACE_VERSION = 12050. The TBB threading layer is disabled.\n",
      "  warnings.warn(problem)\n",
      "Found local copy...\n"
     ]
    },
    {
     "ename": "OSError",
     "evalue": "Unable to synchronously open file (bad object header version number)",
     "output_type": "error",
     "traceback": [
      "\u001b[31m---------------------------------------------------------------------------\u001b[39m",
      "\u001b[31mOSError\u001b[39m                                   Traceback (most recent call last)",
      "\u001b[36mCell\u001b[39m\u001b[36m \u001b[39m\u001b[32mIn[1]\u001b[39m\u001b[32m, line 3\u001b[39m\n\u001b[32m      1\u001b[39m \u001b[38;5;28;01mfrom\u001b[39;00m\u001b[38;5;250m \u001b[39m\u001b[34;01mgears\u001b[39;00m\u001b[38;5;250m \u001b[39m\u001b[38;5;28;01mimport\u001b[39;00m PertData\n\u001b[32m      2\u001b[39m pert_data = PertData(\u001b[33m'\u001b[39m\u001b[33m./vcc_data\u001b[39m\u001b[33m'\u001b[39m) \u001b[38;5;66;03m# specific saved folder\u001b[39;00m\n\u001b[32m----> \u001b[39m\u001b[32m3\u001b[39m \u001b[43mpert_data\u001b[49m\u001b[43m.\u001b[49m\u001b[43mload\u001b[49m\u001b[43m(\u001b[49m\u001b[43mdata_path\u001b[49m\u001b[43m=\u001b[49m\u001b[33;43m\"\u001b[39;49m\u001b[33;43m/scratch/saigum/PerturbationPredictionUsingGeneNetworks/vcc_data/arc/\u001b[39;49m\u001b[33;43m\"\u001b[39;49m\u001b[43m)\u001b[49m\n",
      "\u001b[36mFile \u001b[39m\u001b[32m/scratch/saigum/PerturbationPredictionUsingGeneNetworks/gears/pertdata.py:176\u001b[39m, in \u001b[36mPertData.load\u001b[39m\u001b[34m(self, data_name, data_path)\u001b[39m\n\u001b[32m    174\u001b[39m \u001b[38;5;28;01melif\u001b[39;00m os.path.exists(data_path):\n\u001b[32m    175\u001b[39m     adata_path = os.path.join(data_path, \u001b[33m'\u001b[39m\u001b[33mperturb_processed.h5ad\u001b[39m\u001b[33m'\u001b[39m)\n\u001b[32m--> \u001b[39m\u001b[32m176\u001b[39m     \u001b[38;5;28mself\u001b[39m.adata = \u001b[43msc\u001b[49m\u001b[43m.\u001b[49m\u001b[43mread_h5ad\u001b[49m\u001b[43m(\u001b[49m\u001b[43madata_path\u001b[49m\u001b[43m)\u001b[49m\n\u001b[32m    177\u001b[39m     \u001b[38;5;28mself\u001b[39m.dataset_name = data_path.split(\u001b[33m'\u001b[39m\u001b[33m/\u001b[39m\u001b[33m'\u001b[39m)[-\u001b[32m1\u001b[39m]\n\u001b[32m    178\u001b[39m     \u001b[38;5;28mself\u001b[39m.dataset_path = data_path\n",
      "\u001b[36mFile \u001b[39m\u001b[32m/scratch/saigum/PerturbationPredictionUsingGeneNetworks/perturb/lib/python3.13/site-packages/anndata/_io/h5ad.py:239\u001b[39m, in \u001b[36mread_h5ad\u001b[39m\u001b[34m(filename, backed, as_sparse, as_sparse_fmt, chunk_size)\u001b[39m\n\u001b[32m    233\u001b[39m         \u001b[38;5;28;01mraise\u001b[39;00m \u001b[38;5;167;01mNotImplementedError\u001b[39;00m(msg)\n\u001b[32m    235\u001b[39m rdasp = partial(\n\u001b[32m    236\u001b[39m     read_dense_as_sparse, sparse_format=as_sparse_fmt, axis_chunk=chunk_size\n\u001b[32m    237\u001b[39m )\n\u001b[32m--> \u001b[39m\u001b[32m239\u001b[39m \u001b[38;5;28;01mwith\u001b[39;00m \u001b[43mh5py\u001b[49m\u001b[43m.\u001b[49m\u001b[43mFile\u001b[49m\u001b[43m(\u001b[49m\u001b[43mfilename\u001b[49m\u001b[43m,\u001b[49m\u001b[43m \u001b[49m\u001b[33;43m\"\u001b[39;49m\u001b[33;43mr\u001b[39;49m\u001b[33;43m\"\u001b[39;49m\u001b[43m)\u001b[49m \u001b[38;5;28;01mas\u001b[39;00m f:\n\u001b[32m    241\u001b[39m     \u001b[38;5;28;01mdef\u001b[39;00m\u001b[38;5;250m \u001b[39m\u001b[34mcallback\u001b[39m(func, elem_name: \u001b[38;5;28mstr\u001b[39m, elem, iospec):\n\u001b[32m    242\u001b[39m         \u001b[38;5;28;01mif\u001b[39;00m iospec.encoding_type == \u001b[33m\"\u001b[39m\u001b[33manndata\u001b[39m\u001b[33m\"\u001b[39m \u001b[38;5;129;01mor\u001b[39;00m elem_name.endswith(\u001b[33m\"\u001b[39m\u001b[33m/\u001b[39m\u001b[33m\"\u001b[39m):\n",
      "\u001b[36mFile \u001b[39m\u001b[32m/scratch/saigum/PerturbationPredictionUsingGeneNetworks/perturb/lib/python3.13/site-packages/h5py/_hl/files.py:564\u001b[39m, in \u001b[36mFile.__init__\u001b[39m\u001b[34m(self, name, mode, driver, libver, userblock_size, swmr, rdcc_nslots, rdcc_nbytes, rdcc_w0, track_order, fs_strategy, fs_persist, fs_threshold, fs_page_size, page_buf_size, min_meta_keep, min_raw_keep, locking, alignment_threshold, alignment_interval, meta_block_size, **kwds)\u001b[39m\n\u001b[32m    555\u001b[39m     fapl = make_fapl(driver, libver, rdcc_nslots, rdcc_nbytes, rdcc_w0,\n\u001b[32m    556\u001b[39m                      locking, page_buf_size, min_meta_keep, min_raw_keep,\n\u001b[32m    557\u001b[39m                      alignment_threshold=alignment_threshold,\n\u001b[32m    558\u001b[39m                      alignment_interval=alignment_interval,\n\u001b[32m    559\u001b[39m                      meta_block_size=meta_block_size,\n\u001b[32m    560\u001b[39m                      **kwds)\n\u001b[32m    561\u001b[39m     fcpl = make_fcpl(track_order=track_order, fs_strategy=fs_strategy,\n\u001b[32m    562\u001b[39m                      fs_persist=fs_persist, fs_threshold=fs_threshold,\n\u001b[32m    563\u001b[39m                      fs_page_size=fs_page_size)\n\u001b[32m--> \u001b[39m\u001b[32m564\u001b[39m     fid = \u001b[43mmake_fid\u001b[49m\u001b[43m(\u001b[49m\u001b[43mname\u001b[49m\u001b[43m,\u001b[49m\u001b[43m \u001b[49m\u001b[43mmode\u001b[49m\u001b[43m,\u001b[49m\u001b[43m \u001b[49m\u001b[43muserblock_size\u001b[49m\u001b[43m,\u001b[49m\u001b[43m \u001b[49m\u001b[43mfapl\u001b[49m\u001b[43m,\u001b[49m\u001b[43m \u001b[49m\u001b[43mfcpl\u001b[49m\u001b[43m,\u001b[49m\u001b[43m \u001b[49m\u001b[43mswmr\u001b[49m\u001b[43m=\u001b[49m\u001b[43mswmr\u001b[49m\u001b[43m)\u001b[49m\n\u001b[32m    566\u001b[39m \u001b[38;5;28;01mif\u001b[39;00m \u001b[38;5;28misinstance\u001b[39m(libver, \u001b[38;5;28mtuple\u001b[39m):\n\u001b[32m    567\u001b[39m     \u001b[38;5;28mself\u001b[39m._libver = libver\n",
      "\u001b[36mFile \u001b[39m\u001b[32m/scratch/saigum/PerturbationPredictionUsingGeneNetworks/perturb/lib/python3.13/site-packages/h5py/_hl/files.py:238\u001b[39m, in \u001b[36mmake_fid\u001b[39m\u001b[34m(name, mode, userblock_size, fapl, fcpl, swmr)\u001b[39m\n\u001b[32m    236\u001b[39m     \u001b[38;5;28;01mif\u001b[39;00m swmr \u001b[38;5;129;01mand\u001b[39;00m swmr_support:\n\u001b[32m    237\u001b[39m         flags |= h5f.ACC_SWMR_READ\n\u001b[32m--> \u001b[39m\u001b[32m238\u001b[39m     fid = \u001b[43mh5f\u001b[49m\u001b[43m.\u001b[49m\u001b[43mopen\u001b[49m\u001b[43m(\u001b[49m\u001b[43mname\u001b[49m\u001b[43m,\u001b[49m\u001b[43m \u001b[49m\u001b[43mflags\u001b[49m\u001b[43m,\u001b[49m\u001b[43m \u001b[49m\u001b[43mfapl\u001b[49m\u001b[43m=\u001b[49m\u001b[43mfapl\u001b[49m\u001b[43m)\u001b[49m\n\u001b[32m    239\u001b[39m \u001b[38;5;28;01melif\u001b[39;00m mode == \u001b[33m'\u001b[39m\u001b[33mr+\u001b[39m\u001b[33m'\u001b[39m:\n\u001b[32m    240\u001b[39m     fid = h5f.open(name, h5f.ACC_RDWR, fapl=fapl)\n",
      "\u001b[36mFile \u001b[39m\u001b[32mh5py/_objects.pyx:56\u001b[39m, in \u001b[36mh5py._objects.with_phil.wrapper\u001b[39m\u001b[34m()\u001b[39m\n",
      "\u001b[36mFile \u001b[39m\u001b[32mh5py/_objects.pyx:57\u001b[39m, in \u001b[36mh5py._objects.with_phil.wrapper\u001b[39m\u001b[34m()\u001b[39m\n",
      "\u001b[36mFile \u001b[39m\u001b[32mh5py/h5f.pyx:102\u001b[39m, in \u001b[36mh5py.h5f.open\u001b[39m\u001b[34m()\u001b[39m\n",
      "\u001b[31mOSError\u001b[39m: Unable to synchronously open file (bad object header version number)"
     ]
    }
   ],
   "source": [
    "from gears import PertData\n",
    "pert_data = PertData('./vcc_data') # specific saved folder\n",
    "pert_data.load(data_path=\"/scratch/saigum/PerturbationPredictionUsingGeneNetworks/vcc_data/arc/\")\n"
   ]
  },
  {
   "cell_type": "code",
   "execution_count": null,
   "metadata": {},
   "outputs": [],
   "source": [
    "pert_data.load(data_path=\"/scratch/saigum/PerturbationPredictionUsingGeneNetworks/vcc_data/arc/\")\n"
   ]
  },
  {
   "cell_type": "code",
   "execution_count": null,
   "metadata": {},
   "outputs": [],
   "source": [
    "pert_data.prepare_split(split = 'simulation', seed = 1) # get data split with seed\n",
    "pert_data.get_dataloader(batch_size = 32, test_batch_size = 128) # prepare data loader"
   ]
  }
 ],
 "metadata": {
  "kernelspec": {
   "display_name": "perturb",
   "language": "python",
   "name": "python3"
  },
  "language_info": {
   "codemirror_mode": {
    "name": "ipython",
    "version": 3
   },
   "file_extension": ".py",
   "mimetype": "text/x-python",
   "name": "python",
   "nbconvert_exporter": "python",
   "pygments_lexer": "ipython3",
   "version": "3.13.3"
  }
 },
 "nbformat": 4,
 "nbformat_minor": 2
}
