{
 "cells": [
  {
   "cell_type": "code",
   "execution_count": 4,
   "metadata": {},
   "outputs": [
    {
     "name": "stdout",
     "output_type": "stream",
     "text": [
      "AnnData object with n_obs × n_vars = 221273 × 18080\n",
      "    obs: 'target_gene', 'guide_id', 'batch', 'condition', 'cell_type'\n",
      "    var: 'n_cells_by_counts', 'mean_counts', 'log1p_mean_counts', 'pct_dropout_by_counts', 'total_counts', 'log1p_total_counts', 'mt', 'ribo', 'n_cells', 'gene_name'\n",
      "                                      target_gene  \\\n",
      "AAACAAGCAACCTTGTACTTTAGG-Flex_1_01          CHMP3   \n",
      "AAACAAGCATTGCCGCACTTTAGG-Flex_1_01           AKT2   \n",
      "AAACCAATCAATGTTCACTTTAGG-Flex_1_01          SHPRH   \n",
      "AAACCAATCCCTCGCTACTTTAGG-Flex_1_01         TMSB4X   \n",
      "AAACCAATCTAAATCCACTTTAGG-Flex_1_01          KLF10   \n",
      "...                                           ...   \n",
      "TTTGGACGTGGTGCAGATTCGGTT-Flex_3_16  non-targeting   \n",
      "TTTGTGAGTAGTAGCAATTCGGTT-Flex_3_16          KDM1A   \n",
      "TTTGTGAGTCCATCCTATTCGGTT-Flex_3_16  non-targeting   \n",
      "TTTGTGAGTCCTGACAATTCGGTT-Flex_3_16          BIRC2   \n",
      "TTTGTGAGTGGACACGATTCGGTT-Flex_3_16          EWSR1   \n",
      "\n",
      "                                                                   guide_id  \\\n",
      "AAACAAGCAACCTTGTACTTTAGG-Flex_1_01                CHMP3_P1P2_A|CHMP3_P1P2_B   \n",
      "AAACAAGCATTGCCGCACTTTAGG-Flex_1_01                  AKT2_P1P2_A|AKT2_P1P2_B   \n",
      "AAACCAATCAATGTTCACTTTAGG-Flex_1_01                SHPRH_P1P2_A|SHPRH_P1P2_B   \n",
      "AAACCAATCCCTCGCTACTTTAGG-Flex_1_01                  TMSB4X_P1_A|TMSB4X_P1_B   \n",
      "AAACCAATCTAAATCCACTTTAGG-Flex_1_01                    KLF10_P2_A|KLF10_P2_B   \n",
      "...                                                                     ...   \n",
      "TTTGGACGTGGTGCAGATTCGGTT-Flex_3_16  non-targeting_00035|non-targeting_03439   \n",
      "TTTGTGAGTAGTAGCAATTCGGTT-Flex_3_16                KDM1A_P1P2_A|KDM1A_P1P2_B   \n",
      "TTTGTGAGTCCATCCTATTCGGTT-Flex_3_16  non-targeting_00020|non-targeting_01323   \n",
      "TTTGTGAGTCCTGACAATTCGGTT-Flex_3_16                BIRC2_P1P2_A|BIRC2_P1P2_B   \n",
      "TTTGTGAGTGGACACGATTCGGTT-Flex_3_16                EWSR1_P1P2_A|EWSR1_P1P2_B   \n",
      "\n",
      "                                        batch    condition cell_type  \n",
      "AAACAAGCAACCTTGTACTTTAGG-Flex_1_01  Flex_1_01   ctrl+CHMP3    h1_ESC  \n",
      "AAACAAGCATTGCCGCACTTTAGG-Flex_1_01  Flex_1_01    ctrl+AKT2    h1_ESC  \n",
      "AAACCAATCAATGTTCACTTTAGG-Flex_1_01  Flex_1_01   ctrl+SHPRH    h1_ESC  \n",
      "AAACCAATCCCTCGCTACTTTAGG-Flex_1_01  Flex_1_01  ctrl+TMSB4X    h1_ESC  \n",
      "AAACCAATCTAAATCCACTTTAGG-Flex_1_01  Flex_1_01   ctrl+KLF10    h1_ESC  \n",
      "...                                       ...          ...       ...  \n",
      "TTTGGACGTGGTGCAGATTCGGTT-Flex_3_16  Flex_3_16    ctrl+ctrl    h1_ESC  \n",
      "TTTGTGAGTAGTAGCAATTCGGTT-Flex_3_16  Flex_3_16   ctrl+KDM1A    h1_ESC  \n",
      "TTTGTGAGTCCATCCTATTCGGTT-Flex_3_16  Flex_3_16    ctrl+ctrl    h1_ESC  \n",
      "TTTGTGAGTCCTGACAATTCGGTT-Flex_3_16  Flex_3_16   ctrl+BIRC2    h1_ESC  \n",
      "TTTGTGAGTGGACACGATTCGGTT-Flex_3_16  Flex_3_16   ctrl+EWSR1    h1_ESC  \n",
      "\n",
      "[221273 rows x 5 columns]\n"
     ]
    }
   ],
   "source": [
    "import scanpy as sc\n",
    "orig_path=\"/scratch/saigum/PerturbationPredictionUsingGeneNetworks/vcc_data/adata_Training.h5ad\"\n",
    "data_path=\"/scratch/saigum/PerturbationPredictionUsingGeneNetworks/vcc_data/arc/perturb_processed.h5ad\"\n",
    "adata = sc.read_h5ad(orig_path)\n",
    "adata.obs[\"condition\"] = adata.obs[\"target_gene\"]\n",
    "adata.obs[\"condition\"] = (\n",
    "    adata.obs[\"target_gene\"].replace(\"non-targeting\",\"ctrl\")\n",
    ")\n",
    "adata.obs[\"condition\"]=adata.obs['condition'].cat.rename_categories({cat:f\"ctrl+{cat}\" for cat in adata.obs.condition.cat.categories})\n",
    "adata.var[\"gene_name\"] = adata.var.index.values\n",
    "adata.obs[\"cell_type\"] = \"h1_ESC\"\n",
    "adata.write_h5ad(filename=data_path)\n",
    "print(adata)\n",
    "print(adata.obs)\n",
    "del adata"
   ]
  },
  {
   "cell_type": "code",
   "execution_count": 2,
   "metadata": {},
   "outputs": [],
   "source": [
    "import scanpy as sc\n",
    "data_path=\"/scratch/saigum/PerturbationPredictionUsingGeneNetworks/vcc_data/arc/perturb_processed.h5ad\"\n",
    "adata = sc.read_h5ad(data_path)\n",
    "import pickle as pk\n",
    "with open(\"/scratch/saigum/PerturbationPredictionUsingGeneNetworks/vcc_data/gene2go_all.pkl\",\"rb\") as f:\n",
    "    datago = pk.load(f)"
   ]
  },
  {
   "cell_type": "code",
   "execution_count": 3,
   "metadata": {},
   "outputs": [
    {
     "name": "stdout",
     "output_type": "stream",
     "text": [
      "17525\n"
     ]
    }
   ],
   "source": [
    "\n",
    "key_set = set(datago.keys())\n",
    "genes = set(adata.var_names)         # O(n)\n",
    "common  = genes & key_set            # O(min(n, m))\n",
    "count   = len(common)\n",
    "\n",
    "print(count)\n"
   ]
  },
  {
   "cell_type": "code",
   "execution_count": null,
   "metadata": {},
   "outputs": [],
   "source": []
  },
  {
   "cell_type": "code",
   "execution_count": 5,
   "metadata": {},
   "outputs": [
    {
     "name": "stderr",
     "output_type": "stream",
     "text": [
      "Found local copy...\n",
      "Found local copy...\n",
      "These perturbations are not in the GO graph and their perturbation can thus not be predicted\n",
      "['ctrl+SV2A' 'ctrl+ANTXR1' 'ctrl+CAMSAP2' 'ctrl+WFS1' 'ctrl+SRC'\n",
      " 'ctrl+KDR' 'ctrl+ATP1B1' 'ctrl+RAB3B' 'ctrl+SNCA' 'ctrl+PMEL' 'ctrl+NREP'\n",
      " 'ctrl+DZIP3' 'ctrl+LAD1']\n",
      "Creating pyg object for each cell in the data...\n",
      "Creating dataset file...\n",
      "  0%|          | 0/138 [00:00<?, ?it/s]\n"
     ]
    },
    {
     "ename": "KeyError",
     "evalue": "'condition_name'",
     "output_type": "error",
     "traceback": [
      "\u001b[31m---------------------------------------------------------------------------\u001b[39m",
      "\u001b[31mKeyError\u001b[39m                                  Traceback (most recent call last)",
      "\u001b[36mFile \u001b[39m\u001b[32m/scratch/saigum/PerturbationPredictionUsingGeneNetworks/perturb/lib/python3.13/site-packages/pandas/core/indexes/base.py:3812\u001b[39m, in \u001b[36mIndex.get_loc\u001b[39m\u001b[34m(self, key)\u001b[39m\n\u001b[32m   3811\u001b[39m \u001b[38;5;28;01mtry\u001b[39;00m:\n\u001b[32m-> \u001b[39m\u001b[32m3812\u001b[39m     \u001b[38;5;28;01mreturn\u001b[39;00m \u001b[38;5;28;43mself\u001b[39;49m\u001b[43m.\u001b[49m\u001b[43m_engine\u001b[49m\u001b[43m.\u001b[49m\u001b[43mget_loc\u001b[49m\u001b[43m(\u001b[49m\u001b[43mcasted_key\u001b[49m\u001b[43m)\u001b[49m\n\u001b[32m   3813\u001b[39m \u001b[38;5;28;01mexcept\u001b[39;00m \u001b[38;5;167;01mKeyError\u001b[39;00m \u001b[38;5;28;01mas\u001b[39;00m err:\n",
      "\u001b[36mFile \u001b[39m\u001b[32mpandas/_libs/index.pyx:167\u001b[39m, in \u001b[36mpandas._libs.index.IndexEngine.get_loc\u001b[39m\u001b[34m()\u001b[39m\n",
      "\u001b[36mFile \u001b[39m\u001b[32mpandas/_libs/index.pyx:196\u001b[39m, in \u001b[36mpandas._libs.index.IndexEngine.get_loc\u001b[39m\u001b[34m()\u001b[39m\n",
      "\u001b[36mFile \u001b[39m\u001b[32mpandas/_libs/hashtable_class_helper.pxi:7088\u001b[39m, in \u001b[36mpandas._libs.hashtable.PyObjectHashTable.get_item\u001b[39m\u001b[34m()\u001b[39m\n",
      "\u001b[36mFile \u001b[39m\u001b[32mpandas/_libs/hashtable_class_helper.pxi:7096\u001b[39m, in \u001b[36mpandas._libs.hashtable.PyObjectHashTable.get_item\u001b[39m\u001b[34m()\u001b[39m\n",
      "\u001b[31mKeyError\u001b[39m: 'condition_name'",
      "\nThe above exception was the direct cause of the following exception:\n",
      "\u001b[31mKeyError\u001b[39m                                  Traceback (most recent call last)",
      "\u001b[36mCell\u001b[39m\u001b[36m \u001b[39m\u001b[32mIn[5]\u001b[39m\u001b[32m, line 3\u001b[39m\n\u001b[32m      1\u001b[39m \u001b[38;5;28;01mfrom\u001b[39;00m\u001b[38;5;250m \u001b[39m\u001b[34;01mgears\u001b[39;00m\u001b[38;5;250m \u001b[39m\u001b[38;5;28;01mimport\u001b[39;00m PertData\n\u001b[32m      2\u001b[39m pert_data = PertData(\u001b[33m'\u001b[39m\u001b[33m./vcc_data\u001b[39m\u001b[33m'\u001b[39m) \u001b[38;5;66;03m# specific saved folder\u001b[39;00m\n\u001b[32m----> \u001b[39m\u001b[32m3\u001b[39m \u001b[43mpert_data\u001b[49m\u001b[43m.\u001b[49m\u001b[43mload\u001b[49m\u001b[43m(\u001b[49m\u001b[43mdata_path\u001b[49m\u001b[43m=\u001b[49m\u001b[33;43m\"\u001b[39;49m\u001b[33;43m/scratch/saigum/PerturbationPredictionUsingGeneNetworks/vcc_data/arc/\u001b[39;49m\u001b[33;43m\"\u001b[39;49m\u001b[43m)\u001b[49m\n",
      "\u001b[36mFile \u001b[39m\u001b[32m/scratch/saigum/PerturbationPredictionUsingGeneNetworks/gears/pertdata.py:211\u001b[39m, in \u001b[36mPertData.load\u001b[39m\u001b[34m(self, data_name, data_path)\u001b[39m\n\u001b[32m    207\u001b[39m \u001b[38;5;28mself\u001b[39m.gene_names = \u001b[38;5;28mself\u001b[39m.adata.var.gene_name\n\u001b[32m    210\u001b[39m print_sys(\u001b[33m\"\u001b[39m\u001b[33mCreating pyg object for each cell in the data...\u001b[39m\u001b[33m\"\u001b[39m)\n\u001b[32m--> \u001b[39m\u001b[32m211\u001b[39m \u001b[38;5;28;43mself\u001b[39;49m\u001b[43m.\u001b[49m\u001b[43mcreate_dataset_file\u001b[49m\u001b[43m(\u001b[49m\u001b[43m)\u001b[49m\n\u001b[32m    212\u001b[39m print_sys(\u001b[33m\"\u001b[39m\u001b[33mSaving new dataset pyg object at \u001b[39m\u001b[33m\"\u001b[39m + dataset_fname) \n\u001b[32m    213\u001b[39m pickle.dump(\u001b[38;5;28mself\u001b[39m.dataset_processed, \u001b[38;5;28mopen\u001b[39m(dataset_fname, \u001b[33m\"\u001b[39m\u001b[33mwb\u001b[39m\u001b[33m\"\u001b[39m))    \n",
      "\u001b[36mFile \u001b[39m\u001b[32m/scratch/saigum/PerturbationPredictionUsingGeneNetworks/gears/pertdata.py:610\u001b[39m, in \u001b[36mPertData.create_dataset_file\u001b[39m\u001b[34m(self)\u001b[39m\n\u001b[32m    608\u001b[39m \u001b[38;5;28mself\u001b[39m.dataset_processed = {}\n\u001b[32m    609\u001b[39m \u001b[38;5;28;01mfor\u001b[39;00m p \u001b[38;5;129;01min\u001b[39;00m tqdm(\u001b[38;5;28mself\u001b[39m.adata.obs[\u001b[33m'\u001b[39m\u001b[33mcondition\u001b[39m\u001b[33m'\u001b[39m].unique()):\n\u001b[32m--> \u001b[39m\u001b[32m610\u001b[39m     \u001b[38;5;28mself\u001b[39m.dataset_processed[p] = \u001b[38;5;28;43mself\u001b[39;49m\u001b[43m.\u001b[49m\u001b[43mcreate_cell_graph_dataset\u001b[49m\u001b[43m(\u001b[49m\u001b[38;5;28;43mself\u001b[39;49m\u001b[43m.\u001b[49m\u001b[43madata\u001b[49m\u001b[43m,\u001b[49m\u001b[43m \u001b[49m\u001b[43mp\u001b[49m\u001b[43m)\u001b[49m\n\u001b[32m    611\u001b[39m print_sys(\u001b[33m\"\u001b[39m\u001b[33mDone!\u001b[39m\u001b[33m\"\u001b[39m)\n",
      "\u001b[36mFile \u001b[39m\u001b[32m/scratch/saigum/PerturbationPredictionUsingGeneNetworks/gears/pertdata.py:573\u001b[39m, in \u001b[36mPertData.create_cell_graph_dataset\u001b[39m\u001b[34m(self, split_adata, pert_category, num_samples)\u001b[39m\n\u001b[32m    570\u001b[39m pert_idx = \u001b[38;5;28mself\u001b[39m.get_pert_idx(pert_category)\n\u001b[32m    572\u001b[39m \u001b[38;5;66;03m# Store list of genes that are most differentially expressed for testing\u001b[39;00m\n\u001b[32m--> \u001b[39m\u001b[32m573\u001b[39m pert_de_category = \u001b[43madata_\u001b[49m\u001b[43m.\u001b[49m\u001b[43mobs\u001b[49m\u001b[43m[\u001b[49m\u001b[33;43m'\u001b[39;49m\u001b[33;43mcondition_name\u001b[39;49m\u001b[33;43m'\u001b[39;49m\u001b[43m]\u001b[49m[\u001b[32m0\u001b[39m]\n\u001b[32m    574\u001b[39m \u001b[38;5;28;01mif\u001b[39;00m de:\n\u001b[32m    575\u001b[39m     de_idx = np.where(adata_.var_names.isin(\n\u001b[32m    576\u001b[39m     np.array(de_genes[pert_de_category][:num_de_genes])))[\u001b[32m0\u001b[39m]\n",
      "\u001b[36mFile \u001b[39m\u001b[32m/scratch/saigum/PerturbationPredictionUsingGeneNetworks/perturb/lib/python3.13/site-packages/pandas/core/frame.py:4107\u001b[39m, in \u001b[36mDataFrame.__getitem__\u001b[39m\u001b[34m(self, key)\u001b[39m\n\u001b[32m   4105\u001b[39m \u001b[38;5;28;01mif\u001b[39;00m \u001b[38;5;28mself\u001b[39m.columns.nlevels > \u001b[32m1\u001b[39m:\n\u001b[32m   4106\u001b[39m     \u001b[38;5;28;01mreturn\u001b[39;00m \u001b[38;5;28mself\u001b[39m._getitem_multilevel(key)\n\u001b[32m-> \u001b[39m\u001b[32m4107\u001b[39m indexer = \u001b[38;5;28;43mself\u001b[39;49m\u001b[43m.\u001b[49m\u001b[43mcolumns\u001b[49m\u001b[43m.\u001b[49m\u001b[43mget_loc\u001b[49m\u001b[43m(\u001b[49m\u001b[43mkey\u001b[49m\u001b[43m)\u001b[49m\n\u001b[32m   4108\u001b[39m \u001b[38;5;28;01mif\u001b[39;00m is_integer(indexer):\n\u001b[32m   4109\u001b[39m     indexer = [indexer]\n",
      "\u001b[36mFile \u001b[39m\u001b[32m/scratch/saigum/PerturbationPredictionUsingGeneNetworks/perturb/lib/python3.13/site-packages/pandas/core/indexes/base.py:3819\u001b[39m, in \u001b[36mIndex.get_loc\u001b[39m\u001b[34m(self, key)\u001b[39m\n\u001b[32m   3814\u001b[39m     \u001b[38;5;28;01mif\u001b[39;00m \u001b[38;5;28misinstance\u001b[39m(casted_key, \u001b[38;5;28mslice\u001b[39m) \u001b[38;5;129;01mor\u001b[39;00m (\n\u001b[32m   3815\u001b[39m         \u001b[38;5;28misinstance\u001b[39m(casted_key, abc.Iterable)\n\u001b[32m   3816\u001b[39m         \u001b[38;5;129;01mand\u001b[39;00m \u001b[38;5;28many\u001b[39m(\u001b[38;5;28misinstance\u001b[39m(x, \u001b[38;5;28mslice\u001b[39m) \u001b[38;5;28;01mfor\u001b[39;00m x \u001b[38;5;129;01min\u001b[39;00m casted_key)\n\u001b[32m   3817\u001b[39m     ):\n\u001b[32m   3818\u001b[39m         \u001b[38;5;28;01mraise\u001b[39;00m InvalidIndexError(key)\n\u001b[32m-> \u001b[39m\u001b[32m3819\u001b[39m     \u001b[38;5;28;01mraise\u001b[39;00m \u001b[38;5;167;01mKeyError\u001b[39;00m(key) \u001b[38;5;28;01mfrom\u001b[39;00m\u001b[38;5;250m \u001b[39m\u001b[34;01merr\u001b[39;00m\n\u001b[32m   3820\u001b[39m \u001b[38;5;28;01mexcept\u001b[39;00m \u001b[38;5;167;01mTypeError\u001b[39;00m:\n\u001b[32m   3821\u001b[39m     \u001b[38;5;66;03m# If we have a listlike key, _check_indexing_error will raise\u001b[39;00m\n\u001b[32m   3822\u001b[39m     \u001b[38;5;66;03m#  InvalidIndexError. Otherwise we fall through and re-raise\u001b[39;00m\n\u001b[32m   3823\u001b[39m     \u001b[38;5;66;03m#  the TypeError.\u001b[39;00m\n\u001b[32m   3824\u001b[39m     \u001b[38;5;28mself\u001b[39m._check_indexing_error(key)\n",
      "\u001b[31mKeyError\u001b[39m: 'condition_name'"
     ]
    }
   ],
   "source": [
    "from gears import PertData\n",
    "pert_data = PertData('./vcc_data') # specific saved folder\n",
    "pert_data.load(data_path=\"/scratch/saigum/PerturbationPredictionUsingGeneNetworks/vcc_data/arc/\")\n"
   ]
  },
  {
   "cell_type": "code",
   "execution_count": null,
   "metadata": {},
   "outputs": [],
   "source": [
    "pert_data.load(data_path=\"/scratch/saigum/PerturbationPredictionUsingGeneNetworks/vcc_data/arc/\")\n"
   ]
  },
  {
   "cell_type": "code",
   "execution_count": null,
   "metadata": {},
   "outputs": [],
   "source": [
    "pert_data.prepare_split(split = 'simulation', seed = 1) # get data split with seed\n",
    "pert_data.get_dataloader(batch_size = 32, test_batch_size = 128) # prepare data loader"
   ]
  }
 ],
 "metadata": {
  "kernelspec": {
   "display_name": "perturb",
   "language": "python",
   "name": "python3"
  },
  "language_info": {
   "codemirror_mode": {
    "name": "ipython",
    "version": 3
   },
   "file_extension": ".py",
   "mimetype": "text/x-python",
   "name": "python",
   "nbconvert_exporter": "python",
   "pygments_lexer": "ipython3",
   "version": "3.13.3"
  }
 },
 "nbformat": 4,
 "nbformat_minor": 2
}
