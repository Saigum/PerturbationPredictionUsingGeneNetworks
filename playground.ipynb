{
 "cells": [
  {
   "cell_type": "code",
   "execution_count": 1,
   "metadata": {},
   "outputs": [
    {
     "name": "stderr",
     "output_type": "stream",
     "text": [
      "/tmp/ipykernel_3120748/2525368651.py:8: FutureWarning: The behavior of Series.replace (and DataFrame.replace) with CategoricalDtype is deprecated. In a future version, replace will only be used for cases that preserve the categories. To change the categories, use ser.cat.rename_categories instead.\n",
      "  adata.obs[\"target_gene\"].replace(\"non-targeting\",\"ctrl\")\n"
     ]
    },
    {
     "name": "stdout",
     "output_type": "stream",
     "text": [
      "AnnData object with n_obs × n_vars = 221273 × 18080\n",
      "    obs: 'target_gene', 'guide_id', 'batch', 'condition', 'cell_type', 'dose_val', 'condition_name'\n",
      "    var: 'n_cells_by_counts', 'mean_counts', 'log1p_mean_counts', 'pct_dropout_by_counts', 'total_counts', 'log1p_total_counts', 'mt', 'ribo', 'n_cells', 'gene_name'\n",
      "                                      target_gene  \\\n",
      "AAACAAGCAACCTTGTACTTTAGG-Flex_1_01          CHMP3   \n",
      "AAACAAGCATTGCCGCACTTTAGG-Flex_1_01           AKT2   \n",
      "AAACCAATCAATGTTCACTTTAGG-Flex_1_01          SHPRH   \n",
      "AAACCAATCCCTCGCTACTTTAGG-Flex_1_01         TMSB4X   \n",
      "AAACCAATCTAAATCCACTTTAGG-Flex_1_01          KLF10   \n",
      "...                                           ...   \n",
      "TTTGGACGTGGTGCAGATTCGGTT-Flex_3_16  non-targeting   \n",
      "TTTGTGAGTAGTAGCAATTCGGTT-Flex_3_16          KDM1A   \n",
      "TTTGTGAGTCCATCCTATTCGGTT-Flex_3_16  non-targeting   \n",
      "TTTGTGAGTCCTGACAATTCGGTT-Flex_3_16          BIRC2   \n",
      "TTTGTGAGTGGACACGATTCGGTT-Flex_3_16          EWSR1   \n",
      "\n",
      "                                                                   guide_id  \\\n",
      "AAACAAGCAACCTTGTACTTTAGG-Flex_1_01                CHMP3_P1P2_A|CHMP3_P1P2_B   \n",
      "AAACAAGCATTGCCGCACTTTAGG-Flex_1_01                  AKT2_P1P2_A|AKT2_P1P2_B   \n",
      "AAACCAATCAATGTTCACTTTAGG-Flex_1_01                SHPRH_P1P2_A|SHPRH_P1P2_B   \n",
      "AAACCAATCCCTCGCTACTTTAGG-Flex_1_01                  TMSB4X_P1_A|TMSB4X_P1_B   \n",
      "AAACCAATCTAAATCCACTTTAGG-Flex_1_01                    KLF10_P2_A|KLF10_P2_B   \n",
      "...                                                                     ...   \n",
      "TTTGGACGTGGTGCAGATTCGGTT-Flex_3_16  non-targeting_00035|non-targeting_03439   \n",
      "TTTGTGAGTAGTAGCAATTCGGTT-Flex_3_16                KDM1A_P1P2_A|KDM1A_P1P2_B   \n",
      "TTTGTGAGTCCATCCTATTCGGTT-Flex_3_16  non-targeting_00020|non-targeting_01323   \n",
      "TTTGTGAGTCCTGACAATTCGGTT-Flex_3_16                BIRC2_P1P2_A|BIRC2_P1P2_B   \n",
      "TTTGTGAGTGGACACGATTCGGTT-Flex_3_16                EWSR1_P1P2_A|EWSR1_P1P2_B   \n",
      "\n",
      "                                        batch    condition cell_type dose_val  \\\n",
      "AAACAAGCAACCTTGTACTTTAGG-Flex_1_01  Flex_1_01   ctrl+CHMP3    h1_ESC      1+1   \n",
      "AAACAAGCATTGCCGCACTTTAGG-Flex_1_01  Flex_1_01    ctrl+AKT2    h1_ESC      1+1   \n",
      "AAACCAATCAATGTTCACTTTAGG-Flex_1_01  Flex_1_01   ctrl+SHPRH    h1_ESC      1+1   \n",
      "AAACCAATCCCTCGCTACTTTAGG-Flex_1_01  Flex_1_01  ctrl+TMSB4X    h1_ESC      1+1   \n",
      "AAACCAATCTAAATCCACTTTAGG-Flex_1_01  Flex_1_01   ctrl+KLF10    h1_ESC      1+1   \n",
      "...                                       ...          ...       ...      ...   \n",
      "TTTGGACGTGGTGCAGATTCGGTT-Flex_3_16  Flex_3_16         ctrl    h1_ESC        1   \n",
      "TTTGTGAGTAGTAGCAATTCGGTT-Flex_3_16  Flex_3_16   ctrl+KDM1A    h1_ESC      1+1   \n",
      "TTTGTGAGTCCATCCTATTCGGTT-Flex_3_16  Flex_3_16         ctrl    h1_ESC        1   \n",
      "TTTGTGAGTCCTGACAATTCGGTT-Flex_3_16  Flex_3_16   ctrl+BIRC2    h1_ESC      1+1   \n",
      "TTTGTGAGTGGACACGATTCGGTT-Flex_3_16  Flex_3_16   ctrl+EWSR1    h1_ESC      1+1   \n",
      "\n",
      "                                            condition_name  \n",
      "AAACAAGCAACCTTGTACTTTAGG-Flex_1_01   h1_ESC_ctrl+CHMP3_1+1  \n",
      "AAACAAGCATTGCCGCACTTTAGG-Flex_1_01    h1_ESC_ctrl+AKT2_1+1  \n",
      "AAACCAATCAATGTTCACTTTAGG-Flex_1_01   h1_ESC_ctrl+SHPRH_1+1  \n",
      "AAACCAATCCCTCGCTACTTTAGG-Flex_1_01  h1_ESC_ctrl+TMSB4X_1+1  \n",
      "AAACCAATCTAAATCCACTTTAGG-Flex_1_01   h1_ESC_ctrl+KLF10_1+1  \n",
      "...                                                    ...  \n",
      "TTTGGACGTGGTGCAGATTCGGTT-Flex_3_16           h1_ESC_ctrl_1  \n",
      "TTTGTGAGTAGTAGCAATTCGGTT-Flex_3_16   h1_ESC_ctrl+KDM1A_1+1  \n",
      "TTTGTGAGTCCATCCTATTCGGTT-Flex_3_16           h1_ESC_ctrl_1  \n",
      "TTTGTGAGTCCTGACAATTCGGTT-Flex_3_16   h1_ESC_ctrl+BIRC2_1+1  \n",
      "TTTGTGAGTGGACACGATTCGGTT-Flex_3_16   h1_ESC_ctrl+EWSR1_1+1  \n",
      "\n",
      "[221273 rows x 7 columns]\n"
     ]
    }
   ],
   "source": [
    "import scanpy as sc\n",
    "import numpy as np\n",
    "orig_path=\"/scratch/saigum/PerturbationPredictionUsingGeneNetworks/vcc_data/adata_Training.h5ad\"\n",
    "data_path=\"/scratch/saigum/PerturbationPredictionUsingGeneNetworks/vcc_data/arc/perturb_processed.h5ad\"\n",
    "adata = sc.read_h5ad(orig_path)\n",
    "adata.obs[\"condition\"] = adata.obs[\"target_gene\"]\n",
    "adata.obs[\"condition\"] = (\n",
    "    adata.obs[\"target_gene\"].replace(\"non-targeting\",\"ctrl\")\n",
    ")\n",
    "adata.obs[\"condition\"]=adata.obs['condition'].cat.rename_categories({cat:f\"ctrl+{cat}\" for cat in adata.obs.condition.cat.categories if cat != \"ctrl\"})\n",
    "adata.var[\"gene_name\"] = adata.var.index.values\n",
    "adata.obs[\"cell_type\"] = \"h1_ESC\"\n",
    "adata.obs[\"dose_val\"] = np.where(adata.obs[\"condition\"] == \"ctrl\", \"1\", \"1+1\")\n",
    "adata.obs[\"condition_name\"] = adata.obs[\"cell_type\"].astype(str)+\"_\"+ adata.obs[\"condition\"].astype(str) + \"_\" + adata.obs[\"dose_val\"].astype(str) \n",
    "adata.write_h5ad(filename=data_path)\n",
    "print(adata)\n",
    "print(adata.obs)\n",
    "del adata"
   ]
  },
  {
   "cell_type": "code",
   "execution_count": 2,
   "metadata": {},
   "outputs": [],
   "source": [
    "import scanpy as sc\n",
    "data_path=\"/scratch/saigum/PerturbationPredictionUsingGeneNetworks/vcc_data/arc/perturb_processed.h5ad\"\n",
    "adata = sc.read_h5ad(data_path)\n",
    "import pickle as pk\n",
    "with open(\"/scratch/saigum/PerturbationPredictionUsingGeneNetworks/vcc_data/gene2go_all.pkl\",\"rb\") as f:\n",
    "    datago = pk.load(f)"
   ]
  },
  {
   "cell_type": "code",
   "execution_count": 3,
   "metadata": {},
   "outputs": [
    {
     "name": "stdout",
     "output_type": "stream",
     "text": [
      "17525\n"
     ]
    }
   ],
   "source": [
    "\n",
    "key_set = set(datago.keys())\n",
    "genes = set(adata.var_names)         # O(n)\n",
    "common  = genes & key_set            # O(min(n, m))\n",
    "count   = len(common)\n",
    "\n",
    "print(count)\n"
   ]
  },
  {
   "cell_type": "code",
   "execution_count": 5,
   "metadata": {},
   "outputs": [
    {
     "name": "stdout",
     "output_type": "stream",
     "text": [
      "                        condition cell_type dose_val  control  \\\n",
      "cell_barcode                                                    \n",
      "AAACCTGAGGCATGTG-1   TSC22D1+ctrl      A549      1+1        0   \n",
      "AAACCTGAGGCCCTTG-1    KLF1+MAP2K6      A549      1+1        0   \n",
      "AAACCTGCACGAAGCA-1           ctrl      A549        1        1   \n",
      "AAACCTGCAGACGTAG-1  CEBPE+RUNX1T1      A549      1+1        0   \n",
      "AAACCTGCAGCCTTGG-1     MAML2+ctrl      A549      1+1        0   \n",
      "...                           ...       ...      ...      ...   \n",
      "TTTGTCAGTCATGCAT-8   RHOXF2BB+SET      A549      1+1        0   \n",
      "TTTGTCATCAGTACGT-8     FOXA3+ctrl      A549      1+1        0   \n",
      "TTTGTCATCCACTCCA-8     CELF2+ctrl      A549      1+1        0   \n",
      "TTTGTCATCCCAACGG-8    BCORL1+ctrl      A549      1+1        0   \n",
      "TTTGTCATCTGGCGAC-8    MAP4K3+ctrl      A549      1+1        0   \n",
      "\n",
      "                            condition_name  \n",
      "cell_barcode                                \n",
      "AAACCTGAGGCATGTG-1   A549_TSC22D1+ctrl_1+1  \n",
      "AAACCTGAGGCCCTTG-1    A549_KLF1+MAP2K6_1+1  \n",
      "AAACCTGCACGAAGCA-1             A549_ctrl_1  \n",
      "AAACCTGCAGACGTAG-1  A549_CEBPE+RUNX1T1_1+1  \n",
      "AAACCTGCAGCCTTGG-1     A549_MAML2+ctrl_1+1  \n",
      "...                                    ...  \n",
      "TTTGTCAGTCATGCAT-8   A549_RHOXF2BB+SET_1+1  \n",
      "TTTGTCATCAGTACGT-8     A549_FOXA3+ctrl_1+1  \n",
      "TTTGTCATCCACTCCA-8     A549_CELF2+ctrl_1+1  \n",
      "TTTGTCATCCCAACGG-8    A549_BCORL1+ctrl_1+1  \n",
      "TTTGTCATCTGGCGAC-8    A549_MAP4K3+ctrl_1+1  \n",
      "\n",
      "[91205 rows x 5 columns]\n"
     ]
    }
   ],
   "source": [
    "import scanpy as sc \n",
    "test = sc.read_h5ad(\"/scratch/saigum/PerturbationPredictionUsingGeneNetworks/demo/data/norman/perturb_processed.h5ad\")\n",
    "print(test.obs)"
   ]
  },
  {
   "cell_type": "code",
   "execution_count": 7,
   "metadata": {},
   "outputs": [],
   "source": [
    "test.obs[\"condition_name_2\"] = test.obs[\"cell_type\"].astype(str)+\"_\"+ test.obs[\"condition\"].astype(str) + \"_\" + test.obs[\"dose_val\"].astype(str) \n"
   ]
  },
  {
   "cell_type": "code",
   "execution_count": 11,
   "metadata": {},
   "outputs": [
    {
     "data": {
      "text/plain": [
       "np.int64(91205)"
      ]
     },
     "execution_count": 11,
     "metadata": {},
     "output_type": "execute_result"
    }
   ],
   "source": [
    "(test.obs[\"condition_name_2\"] == test.obs[\"condition_name\"]).sum()"
   ]
  },
  {
   "cell_type": "code",
   "execution_count": 2,
   "metadata": {},
   "outputs": [
    {
     "data": {
      "text/html": [
       "<div>\n",
       "<style scoped>\n",
       "    .dataframe tbody tr th:only-of-type {\n",
       "        vertical-align: middle;\n",
       "    }\n",
       "\n",
       "    .dataframe tbody tr th {\n",
       "        vertical-align: top;\n",
       "    }\n",
       "\n",
       "    .dataframe thead th {\n",
       "        text-align: right;\n",
       "    }\n",
       "</style>\n",
       "<table border=\"1\" class=\"dataframe\">\n",
       "  <thead>\n",
       "    <tr style=\"text-align: right;\">\n",
       "      <th></th>\n",
       "      <th>gene_name</th>\n",
       "    </tr>\n",
       "    <tr>\n",
       "      <th>gene_id</th>\n",
       "      <th></th>\n",
       "    </tr>\n",
       "  </thead>\n",
       "  <tbody>\n",
       "    <tr>\n",
       "      <th>ENSG00000239945</th>\n",
       "      <td>RP11-34P13.8</td>\n",
       "    </tr>\n",
       "    <tr>\n",
       "      <th>ENSG00000223764</th>\n",
       "      <td>RP11-54O7.3</td>\n",
       "    </tr>\n",
       "    <tr>\n",
       "      <th>ENSG00000187634</th>\n",
       "      <td>SAMD11</td>\n",
       "    </tr>\n",
       "    <tr>\n",
       "      <th>ENSG00000187642</th>\n",
       "      <td>PERM1</td>\n",
       "    </tr>\n",
       "    <tr>\n",
       "      <th>ENSG00000188290</th>\n",
       "      <td>HES4</td>\n",
       "    </tr>\n",
       "    <tr>\n",
       "      <th>...</th>\n",
       "      <td>...</td>\n",
       "    </tr>\n",
       "    <tr>\n",
       "      <th>ENSG00000198786</th>\n",
       "      <td>MT-ND5</td>\n",
       "    </tr>\n",
       "    <tr>\n",
       "      <th>ENSG00000198695</th>\n",
       "      <td>MT-ND6</td>\n",
       "    </tr>\n",
       "    <tr>\n",
       "      <th>ENSG00000198727</th>\n",
       "      <td>MT-CYB</td>\n",
       "    </tr>\n",
       "    <tr>\n",
       "      <th>ENSG00000273554</th>\n",
       "      <td>AC136616.1</td>\n",
       "    </tr>\n",
       "    <tr>\n",
       "      <th>ENSG00000278633</th>\n",
       "      <td>AC023491.2</td>\n",
       "    </tr>\n",
       "  </tbody>\n",
       "</table>\n",
       "<p>5045 rows × 1 columns</p>\n",
       "</div>"
      ],
      "text/plain": [
       "                    gene_name\n",
       "gene_id                      \n",
       "ENSG00000239945  RP11-34P13.8\n",
       "ENSG00000223764   RP11-54O7.3\n",
       "ENSG00000187634        SAMD11\n",
       "ENSG00000187642         PERM1\n",
       "ENSG00000188290          HES4\n",
       "...                       ...\n",
       "ENSG00000198786        MT-ND5\n",
       "ENSG00000198695        MT-ND6\n",
       "ENSG00000198727        MT-CYB\n",
       "ENSG00000273554    AC136616.1\n",
       "ENSG00000278633    AC023491.2\n",
       "\n",
       "[5045 rows x 1 columns]"
      ]
     },
     "execution_count": 2,
     "metadata": {},
     "output_type": "execute_result"
    }
   ],
   "source": [
    "test.var"
   ]
  },
  {
   "cell_type": "code",
   "execution_count": null,
   "metadata": {},
   "outputs": [],
   "source": [
    "from gears import PertData\n",
    "pert_data = PertData('./vcc_data') # specific saved folder\n",
    "pert_data.load(data_path=\"/scratch/saigum/PerturbationPredictionUsingGeneNetworks/vcc_data/arc/\")\n"
   ]
  },
  {
   "cell_type": "code",
   "execution_count": null,
   "metadata": {},
   "outputs": [],
   "source": [
    "from gears import GEARS\n",
    "pert_data.prepare_split(split = 'simulation', seed = 1)\n",
    "pert_data.get_dataloader(batch_size = 32, test_batch_size = 128)\n",
    "gears_model = GEARS(pert_data, device = 'cuda:7', \n",
    "                        weight_bias_track = False, \n",
    "                        proj_name = 'pertnet', \n",
    "                        exp_name = 'pertnet')\n",
    "gears_model.model_initialize(hidden_size = 64)\n",
    "gears_model.train(epochs = 20, lr = 1e-3)"
   ]
  },
  {
   "cell_type": "code",
   "execution_count": null,
   "metadata": {},
   "outputs": [],
   "source": [
    "pert_data.load(data_path=\"/scratch/saigum/PerturbationPredictionUsingGeneNetworks/vcc_data/arc/\")\n"
   ]
  },
  {
   "cell_type": "code",
   "execution_count": null,
   "metadata": {},
   "outputs": [],
   "source": [
    "pert_data.prepare_split(split = 'simulation', seed = 1) # get data split with seed\n",
    "pert_data.get_dataloader(batch_size = 32, test_batch_size = 128) # prepare data loader"
   ]
  },
  {
   "cell_type": "code",
   "execution_count": null,
   "metadata": {},
   "outputs": [],
   "source": [
    "import scanpy as sc\n",
    "adata_train = sc.read_h5ad(\"/scratch/saigum/PerturbationPredictionUsingGeneNetworks/vcc_data/arc_train/perturb_processed.h5ad\")\n",
    "print(adata_train)"
   ]
  }
 ],
 "metadata": {
  "kernelspec": {
   "display_name": "perturb",
   "language": "python",
   "name": "python3"
  },
  "language_info": {
   "codemirror_mode": {
    "name": "ipython",
    "version": 3
   },
   "file_extension": ".py",
   "mimetype": "text/x-python",
   "name": "python",
   "nbconvert_exporter": "python",
   "pygments_lexer": "ipython3",
   "version": "3.13.3"
  }
 },
 "nbformat": 4,
 "nbformat_minor": 2
}
