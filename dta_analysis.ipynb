{
 "cells": [
  {
   "cell_type": "code",
   "execution_count": 1,
   "metadata": {},
   "outputs": [
    {
     "name": "stdout",
     "output_type": "stream",
     "text": [
      "AnnData object with n_obs × n_vars = 221273 × 1792\n",
      "    obs: 'target_gene', 'guide_id', 'batch', 'condition', 'cell_type', 'dose_val', 'condition_name'\n",
      "    var: 'n_cells_by_counts', 'mean_counts', 'log1p_mean_counts', 'pct_dropout_by_counts', 'total_counts', 'log1p_total_counts', 'mt', 'ribo', 'n_cells', 'gene_name', 'highly_variable', 'means', 'dispersions', 'dispersions_norm'\n",
      "    uns: 'hvg', 'log1p', 'rank_genes_groups'\n",
      "    obsm: 'X_hvg'\n"
     ]
    }
   ],
   "source": [
    "data_path=\"/home/saigum/snap/snapd-desktop-integration/current/Desktop/PerturbationPredictionUsingGeneNetworks/subset_train/arc/perturb_processed.h5ad\"\n",
    "import scanpy as sc \n",
    "import numpy as np\n",
    "\n",
    "adata = sc.read_h5ad(filename=data_path)\n",
    "print(adata)"
   ]
  },
  {
   "cell_type": "code",
   "execution_count": 3,
   "metadata": {},
   "outputs": [
    {
     "name": "stdout",
     "output_type": "stream",
     "text": [
      "Average across cells is : [1.0631038  0.6363128  1.2860514  ... 1.1040236  0.70304763 1.0069864 ] , 221273\n"
     ]
    }
   ],
   "source": [
    "mat=adata.X.toarray()\n",
    "avgs = np.average(mat,1)\n",
    "print(f\"Average across cells is : {avgs} , {len(avgs)}\")"
   ]
  },
  {
   "cell_type": "code",
   "execution_count": null,
   "metadata": {},
   "outputs": [],
   "source": []
  },
  {
   "cell_type": "code",
   "execution_count": null,
   "metadata": {},
   "outputs": [],
   "source": []
  }
 ],
 "metadata": {
  "kernelspec": {
   "display_name": "perturb",
   "language": "python",
   "name": "python3"
  },
  "language_info": {
   "codemirror_mode": {
    "name": "ipython",
    "version": 3
   },
   "file_extension": ".py",
   "mimetype": "text/x-python",
   "name": "python",
   "nbconvert_exporter": "python",
   "pygments_lexer": "ipython3",
   "version": "3.10.12"
  }
 },
 "nbformat": 4,
 "nbformat_minor": 2
}
