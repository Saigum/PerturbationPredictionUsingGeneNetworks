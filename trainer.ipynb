{
 "cells": [
  {
   "cell_type": "code",
   "execution_count": 1,
   "metadata": {},
   "outputs": [],
   "source": [
    "import scanpy as sc \n",
    "orig_path = sc.read_h5ad(\"state_.h5ad\")\n"
   ]
  },
  {
   "cell_type": "code",
   "execution_count": 19,
   "metadata": {},
   "outputs": [
    {
     "name": "stdout",
     "output_type": "stream",
     "text": [
      "Ratio of perturbed genes that are present in hvg set to total set : 1.0\n"
     ]
    }
   ],
   "source": [
    "import numpy as np\n",
    "knockout_mask = np.isin(orig_path.var_names,orig_path.obs[\"target_gene\"].unique())\n",
    "print(f\"Ratio of perturbed genes that are present in hvg set to total set : {sum(knockout_mask)/150}\")"
   ]
  },
  {
   "cell_type": "code",
   "execution_count": null,
   "metadata": {},
   "outputs": [],
   "source": [
    "adata_hvg = orig_path[:,orig_path.var[\"highly_variable\"]]\n",
    "sc.tl.rank_genes_groups(adata_hvg, groupby=\"condition\", method=\"wilcoxon\")\n"
   ]
  },
  {
   "cell_type": "code",
   "execution_count": 25,
   "metadata": {},
   "outputs": [],
   "source": [
    "\n",
    "adata_hvg.write_h5ad(\"adata_Training_hvg_.h5ad\")"
   ]
  },
  {
   "cell_type": "code",
   "execution_count": 1,
   "metadata": {},
   "outputs": [
    {
     "name": "stderr",
     "output_type": "stream",
     "text": [
      "Found local copy...\n",
      "Found local copy...\n",
      "These perturbations are not in the GO graph and their perturbation can thus not be predicted\n",
      "['ctrl+SV2A' 'ctrl+ANTXR1' 'ctrl+CAMSAP2' 'ctrl+WFS1' 'ctrl+SRC'\n",
      " 'ctrl+KDR' 'ctrl+ATP1B1' 'ctrl+RAB3B' 'ctrl+SNCA' 'ctrl+PMEL' 'ctrl+NREP'\n",
      " 'ctrl+DZIP3' 'ctrl+LAD1']\n",
      "Local copy of pyg dataset is detected. Loading...\n",
      "Done!\n",
      "Local copy of split is detected. Loading...\n",
      "Simulation split test composition:\n",
      "combo_seen0:0\n",
      "combo_seen1:0\n",
      "combo_seen2:0\n",
      "unseen_single:35\n",
      "Done!\n",
      "Creating dataloaders....\n",
      "Done!\n"
     ]
    },
    {
     "name": "stdout",
     "output_type": "stream",
     "text": [
      "here1\n"
     ]
    }
   ],
   "source": [
    "from gears import GEARS,PertData\n",
    "pert_data = PertData(\"subset_train\")\n",
    "pert_data.load(data_path=\"subset_train/arc\")\n",
    "pert_data.prepare_split(split = 'simulation', seed = 1)\n",
    "pert_data.get_dataloader(batch_size = 32, test_batch_size = 128)\n"
   ]
  },
  {
   "cell_type": "code",
   "execution_count": 2,
   "metadata": {},
   "outputs": [
    {
     "data": {
      "text/plain": [
       "<Compressed Sparse Row sparse matrix of dtype 'float32'\n",
       "\twith 46772839 stored elements and shape (38176, 1792)>"
      ]
     },
     "execution_count": 2,
     "metadata": {},
     "output_type": "execute_result"
    }
   ],
   "source": [
    "pert_data.adata.X[pert_data.adata.obs.condition.values==\"ctrl\"]"
   ]
  },
  {
   "cell_type": "code",
   "execution_count": null,
   "metadata": {},
   "outputs": [],
   "source": []
  },
  {
   "cell_type": "code",
   "execution_count": null,
   "metadata": {},
   "outputs": [],
   "source": [
    "import numpy as np\n",
    "## indices in adata.X where expression is nonzero for perturbed genesubset, grouped by gene.\n",
    "non_zeros_gene_idx = {\n",
    "    cond: np.flatnonzero(pert_data.adata.X[pert_data.adata.obs['condition'].values==cond].getnnz(axis=0))\n",
    "    for cond in pert_data.adata.obs['condition'].unique()\n",
    "}\n"
   ]
  },
  {
   "cell_type": "code",
   "execution_count": 8,
   "metadata": {},
   "outputs": [
    {
     "name": "stdout",
     "output_type": "stream",
     "text": [
      "{'ctrl+CHMP3': array([   0,    1,    2, ..., 1789, 1790, 1791], shape=(1791,)), 'ctrl+AKT2': array([   0,    1,    2, ..., 1789, 1790, 1791], shape=(1792,)), 'ctrl+SHPRH': array([   0,    1,    2, ..., 1789, 1790, 1791], shape=(1789,)), 'ctrl+TMSB4X': array([   0,    1,    2, ..., 1789, 1790, 1791], shape=(1792,)), 'ctrl+KLF10': array([   0,    1,    2, ..., 1789, 1790, 1791], shape=(1792,)), 'ctrl+TARBP2': array([   0,    1,    2, ..., 1789, 1790, 1791], shape=(1792,)), 'ctrl+KDM2B': array([   0,    1,    2, ..., 1789, 1790, 1791], shape=(1792,)), 'ctrl': array([   0,    1,    2, ..., 1789, 1790, 1791], shape=(1792,)), 'ctrl+CLDN6': array([   0,    1,    2, ..., 1789, 1790, 1791], shape=(1791,)), 'ctrl+TCF3': array([   0,    1,    2, ..., 1789, 1790, 1791], shape=(1791,)), 'ctrl+NDUFB6': array([   0,    1,    2, ..., 1789, 1790, 1791], shape=(1790,)), 'ctrl+TADA1': array([   0,    1,    2, ..., 1789, 1790, 1791], shape=(1792,)), 'ctrl+MED12': array([   0,    1,    2, ..., 1789, 1790, 1791], shape=(1792,)), 'ctrl+IDE': array([   0,    1,    2, ..., 1789, 1790, 1791], shape=(1792,)), 'ctrl+PRCP': array([   0,    1,    2, ..., 1789, 1790, 1791], shape=(1792,)), 'ctrl+FOXH1': array([   0,    1,    2, ..., 1789, 1790, 1791], shape=(1792,)), 'ctrl+SMARCA4': array([   0,    1,    2, ..., 1789, 1790, 1791], shape=(1790,)), 'ctrl+TWF2': array([   0,    1,    2, ..., 1789, 1790, 1791], shape=(1792,)), 'ctrl+SAFB': array([   0,    1,    2, ..., 1789, 1790, 1791], shape=(1792,)), 'ctrl+POLB': array([   0,    1,    2, ..., 1789, 1790, 1791], shape=(1792,)), 'ctrl+TSC22D4': array([   0,    1,    2, ..., 1789, 1790, 1791], shape=(1792,)), 'ctrl+ACVR1B': array([   0,    1,    2, ..., 1789, 1790, 1791], shape=(1792,)), 'ctrl+PMS1': array([   0,    1,    2, ..., 1789, 1790, 1791], shape=(1792,)), 'ctrl+NISCH': array([   0,    1,    2, ..., 1789, 1790, 1791], shape=(1792,)), 'ctrl+INSIG1': array([   0,    1,    2, ..., 1789, 1790, 1791], shape=(1792,)), 'ctrl+DHCR24': array([   0,    1,    2, ..., 1789, 1790, 1791], shape=(1791,)), 'ctrl+MAP3K7': array([   0,    1,    2, ..., 1789, 1790, 1791], shape=(1792,)), 'ctrl+TMSB10': array([   0,    1,    2, ..., 1789, 1790, 1791], shape=(1792,)), 'ctrl+SMARCA5': array([   0,    1,    2, ..., 1789, 1790, 1791], shape=(1791,)), 'ctrl+STAG2': array([   0,    1,    2, ..., 1789, 1790, 1791], shape=(1792,)), 'ctrl+ZNF426': array([   0,    1,    2, ..., 1789, 1790, 1791], shape=(1792,)), 'ctrl+DNMT1': array([   0,    1,    2, ..., 1789, 1790, 1791], shape=(1792,)), 'ctrl+SSBP1': array([   0,    1,    2, ..., 1789, 1790, 1791], shape=(1790,)), 'ctrl+HIRA': array([   0,    1,    2, ..., 1789, 1790, 1791], shape=(1792,)), 'ctrl+USP22': array([   0,    1,    2, ..., 1789, 1790, 1791], shape=(1792,)), 'ctrl+PBX1': array([   0,    1,    2, ..., 1789, 1790, 1791], shape=(1792,)), 'ctrl+EID2': array([   0,    1,    2, ..., 1789, 1790, 1791], shape=(1792,)), 'ctrl+KAT2A': array([   0,    1,    2, ..., 1789, 1790, 1791], shape=(1792,)), 'ctrl+MAPKAPK2': array([   0,    1,    2, ..., 1789, 1790, 1791], shape=(1792,)), 'ctrl+HSBP1': array([   0,    1,    2, ..., 1789, 1790, 1791], shape=(1781,)), 'ctrl+MED13': array([   0,    1,    2, ..., 1789, 1790, 1791], shape=(1792,)), 'ctrl+ZNF593': array([   0,    1,    2, ..., 1789, 1790, 1791], shape=(1790,)), 'ctrl+TET1': array([   0,    1,    2, ..., 1789, 1790, 1791], shape=(1792,)), 'ctrl+EIF4B': array([   0,    1,    2, ..., 1789, 1790, 1791], shape=(1791,)), 'ctrl+SIX4': array([   0,    1,    2, ..., 1789, 1790, 1791], shape=(1792,)), 'ctrl+TFAM': array([   0,    1,    2, ..., 1789, 1790, 1791], shape=(1791,)), 'ctrl+MAST2': array([   0,    1,    2, ..., 1789, 1790, 1791], shape=(1791,)), 'ctrl+SMAGP': array([   0,    1,    2, ..., 1789, 1790, 1791], shape=(1792,)), 'ctrl+CAST': array([   0,    1,    2, ..., 1789, 1790, 1791], shape=(1792,)), 'ctrl+MTA1': array([   0,    1,    2, ..., 1789, 1790, 1791], shape=(1792,)), 'ctrl+KIF20A': array([   0,    1,    2, ..., 1789, 1790, 1791], shape=(1789,)), 'ctrl+KIF1B': array([   0,    1,    2, ..., 1789, 1790, 1791], shape=(1792,)), 'ctrl+NCK2': array([   0,    1,    2, ..., 1789, 1790, 1791], shape=(1792,)), 'ctrl+XRCC4': array([   0,    1,    2, ..., 1789, 1790, 1791], shape=(1791,)), 'ctrl+RNF2': array([   0,    1,    2, ..., 1789, 1790, 1791], shape=(1792,)), 'ctrl+CASP3': array([   0,    1,    2, ..., 1789, 1790, 1791], shape=(1791,)), 'ctrl+HMGN1': array([   0,    1,    2, ..., 1789, 1790, 1791], shape=(1792,)), 'ctrl+GSK3B': array([   0,    1,    2, ..., 1789, 1790, 1791], shape=(1792,)), 'ctrl+MED13L': array([   0,    1,    2, ..., 1789, 1790, 1791], shape=(1791,)), 'ctrl+HMGB2': array([   0,    1,    2, ..., 1789, 1790, 1791], shape=(1792,)), 'ctrl+DHX36': array([   0,    1,    2, ..., 1789, 1790, 1791], shape=(1792,)), 'ctrl+IGF2R': array([   0,    1,    2, ..., 1789, 1790, 1791], shape=(1792,)), 'ctrl+HAT1': array([   0,    1,    2, ..., 1789, 1790, 1791], shape=(1791,)), 'ctrl+STAT6': array([   0,    1,    2, ..., 1789, 1790, 1791], shape=(1791,)), 'ctrl+ARID1A': array([   0,    1,    2, ..., 1789, 1790, 1791], shape=(1791,)), 'ctrl+CDCA2': array([   0,    1,    2, ..., 1789, 1790, 1791], shape=(1792,)), 'ctrl+TRAM2': array([   0,    1,    2, ..., 1789, 1790, 1791], shape=(1792,)), 'ctrl+STAT1': array([   0,    1,    2, ..., 1789, 1790, 1791], shape=(1792,)), 'ctrl+TMBIM6': array([   0,    1,    2, ..., 1789, 1790, 1791], shape=(1792,)), 'ctrl+DAXX': array([   0,    1,    2, ..., 1789, 1790, 1791], shape=(1792,)), 'ctrl+PRDM14': array([   0,    1,    2, ..., 1789, 1790, 1791], shape=(1782,)), 'ctrl+CREG1': array([   0,    1,    2, ..., 1789, 1790, 1791], shape=(1792,)), 'ctrl+METTL14': array([   0,    1,    2, ..., 1789, 1790, 1791], shape=(1790,)), 'ctrl+RAF1': array([   0,    1,    2, ..., 1789, 1790, 1791], shape=(1791,)), 'ctrl+RRM1': array([   0,    1,    2, ..., 1789, 1790, 1791], shape=(1792,)), 'ctrl+UQCRQ': array([   0,    1,    2, ..., 1789, 1790, 1791], shape=(1792,)), 'ctrl+BIRC2': array([   0,    1,    2, ..., 1789, 1790, 1791], shape=(1792,)), 'ctrl+IKBKG': array([   0,    1,    2, ..., 1789, 1790, 1791], shape=(1790,)), 'ctrl+LRPPRC': array([   0,    1,    2, ..., 1789, 1790, 1791], shape=(1792,)), 'ctrl+SDC1': array([   0,    1,    2, ..., 1789, 1790, 1791], shape=(1785,)), 'ctrl+ZNF714': array([   0,    1,    2, ..., 1789, 1790, 1791], shape=(1792,)), 'ctrl+CASP2': array([   0,    1,    2, ..., 1789, 1790, 1791], shape=(1792,)), 'ctrl+STX4': array([   0,    1,    2, ..., 1789, 1790, 1791], shape=(1791,)), 'ctrl+IRF3': array([   0,    1,    2, ..., 1789, 1790, 1791], shape=(1791,)), 'ctrl+CENPO': array([   0,    1,    2, ..., 1789, 1790, 1791], shape=(1792,)), 'ctrl+EWSR1': array([   0,    1,    2, ..., 1789, 1790, 1791], shape=(1791,)), 'ctrl+PLCB3': array([   0,    1,    2, ..., 1789, 1790, 1791], shape=(1791,)), 'ctrl+PHF14': array([   0,    1,    2, ..., 1789, 1790, 1791], shape=(1791,)), 'ctrl+MAU2': array([   0,    1,    2, ..., 1789, 1790, 1791], shape=(1792,)), 'ctrl+TAZ': array([   0,    1,    2, ..., 1789, 1790, 1791], shape=(1792,)), 'ctrl+DLG5': array([   0,    1,    2, ..., 1789, 1790, 1791], shape=(1791,)), 'ctrl+CLDN7': array([   0,    1,    2, ..., 1789, 1790, 1791], shape=(1792,)), 'ctrl+PAGR1': array([   0,    1,    2, ..., 1789, 1790, 1791], shape=(1791,)), 'ctrl+PTPN1': array([   0,    1,    2, ..., 1789, 1790, 1791], shape=(1792,)), 'ctrl+NDUFB4': array([   0,    1,    2, ..., 1789, 1790, 1791], shape=(1792,)), 'ctrl+KDM1A': array([   0,    1,    2, ..., 1789, 1790, 1791], shape=(1791,)), 'ctrl+UBE3C': array([   0,    1,    2, ..., 1789, 1790, 1791], shape=(1792,)), 'ctrl+TGFBR2': array([   0,    1,    2, ..., 1789, 1790, 1791], shape=(1792,)), 'ctrl+TRAPPC6A': array([   0,    1,    2, ..., 1789, 1790, 1791], shape=(1790,)), 'ctrl+MED24': array([   0,    1,    2, ..., 1789, 1790, 1791], shape=(1786,)), 'ctrl+METTL17': array([   0,    1,    2, ..., 1789, 1790, 1791], shape=(1792,)), 'ctrl+SOX2': array([   0,    1,    2, ..., 1789, 1790, 1791], shape=(1791,)), 'ctrl+ZNF286A': array([   0,    1,    2, ..., 1789, 1790, 1791], shape=(1790,)), 'ctrl+MKI67': array([   0,    1,    2, ..., 1789, 1790, 1791], shape=(1792,)), 'ctrl+TXNDC9': array([   0,    1,    2, ..., 1789, 1790, 1791], shape=(1790,)), 'ctrl+MAP1B': array([   0,    1,    2, ..., 1789, 1790, 1791], shape=(1791,)), 'ctrl+ACAT2': array([   0,    1,    2, ..., 1789, 1790, 1791], shape=(1792,)), 'ctrl+PRR12': array([   0,    1,    2, ..., 1789, 1790, 1791], shape=(1792,)), 'ctrl+TAF13': array([   0,    1,    2, ..., 1789, 1790, 1791], shape=(1777,)), 'ctrl+CALM3': array([   0,    1,    2, ..., 1789, 1790, 1791], shape=(1792,)), 'ctrl+C1QBP': array([   0,    1,    2, ..., 1789, 1790, 1791], shape=(1790,)), 'ctrl+NRAS': array([   0,    1,    2, ..., 1789, 1790, 1791], shape=(1792,)), 'ctrl+SALL4': array([   0,    1,    2, ..., 1789, 1790, 1791], shape=(1779,)), 'ctrl+MED1': array([   0,    1,    2, ..., 1789, 1790, 1791], shape=(1785,)), 'ctrl+NIT1': array([   0,    1,    2, ..., 1789, 1790, 1791], shape=(1791,)), 'ctrl+MBTPS1': array([   0,    1,    2, ..., 1789, 1790, 1791], shape=(1791,)), 'ctrl+ATP6V0B': array([   0,    1,    2, ..., 1789, 1790, 1791], shape=(1786,)), 'ctrl+ZNF562': array([   0,    1,    2, ..., 1789, 1790, 1791], shape=(1791,)), 'ctrl+PHF10': array([   0,    1,    2, ..., 1789, 1790, 1791], shape=(1790,)), 'ctrl+WSB2': array([   0,    1,    2, ..., 1789, 1790, 1791], shape=(1792,)), 'ctrl+FDPS': array([   0,    1,    2, ..., 1789, 1790, 1791], shape=(1779,)), 'ctrl+SIN3B': array([   0,    1,    2, ..., 1789, 1790, 1791], shape=(1791,)), 'ctrl+METTL3': array([   0,    1,    2, ..., 1789, 1790, 1791], shape=(1789,)), 'ctrl+SLC25A3': array([   0,    1,    2, ..., 1789, 1790, 1791], shape=(1792,)), 'ctrl+OXCT1': array([   0,    1,    2, ..., 1789, 1790, 1791], shape=(1792,)), 'ctrl+LZTR1': array([   0,    1,    2, ..., 1789, 1790, 1791], shape=(1792,)), 'ctrl+SLC39A6': array([   0,    1,    2, ..., 1789, 1790, 1791], shape=(1774,)), 'ctrl+RNF20': array([   0,    1,    2, ..., 1789, 1790, 1791], shape=(1786,)), 'ctrl+SEC62': array([   0,    1,    2, ..., 1789, 1790, 1791], shape=(1788,)), 'ctrl+EPB41L2': array([   0,    1,    2, ..., 1789, 1790, 1791], shape=(1786,)), 'ctrl+OXA1L': array([   0,    1,    2, ..., 1789, 1790, 1791], shape=(1757,)), 'ctrl+ATP6V0C': array([   0,    1,    2, ..., 1789, 1790, 1791], shape=(1742,)), 'ctrl+ETV4': array([   0,    1,    2, ..., 1789, 1790, 1791], shape=(1787,)), 'ctrl+EPHB4': array([   0,    1,    2, ..., 1789, 1790, 1791], shape=(1788,)), 'ctrl+BRD9': array([   0,    1,    2, ..., 1789, 1790, 1791], shape=(1763,)), 'ctrl+SUPT4H1': array([   0,    1,    2, ..., 1789, 1790, 1791], shape=(1783,)), 'ctrl+ATM': array([   0,    1,    2, ..., 1789, 1790, 1791], shape=(1792,)), 'ctrl+DNAJA3': array([   0,    1,    2, ..., 1788, 1790, 1791], shape=(1749,))}\n"
     ]
    }
   ],
   "source": [
    "print(non_zeros_gene_idx)\n"
   ]
  },
  {
   "cell_type": "code",
   "execution_count": 11,
   "metadata": {},
   "outputs": [
    {
     "name": "stderr",
     "output_type": "stream",
     "text": [
      "Downloading...\n",
      "100%|██████████| 60.7M/60.7M [00:18<00:00, 3.34MiB/s]  \n",
      "Extracting tar file...\n",
      "Done!\n",
      "Start Training...\n"
     ]
    },
    {
     "ename": "KeyError",
     "evalue": "np.str_('ctrl+MAST2')",
     "output_type": "error",
     "traceback": [
      "\u001b[0;31m---------------------------------------------------------------------------\u001b[0m",
      "\u001b[0;31mKeyError\u001b[0m                                  Traceback (most recent call last)",
      "Cell \u001b[0;32mIn[11], line 7\u001b[0m\n\u001b[1;32m      2\u001b[0m gears_model \u001b[38;5;241m=\u001b[39m GEARS(pert_data, device \u001b[38;5;241m=\u001b[39m \u001b[38;5;124m'\u001b[39m\u001b[38;5;124mcpu\u001b[39m\u001b[38;5;124m'\u001b[39m, \n\u001b[1;32m      3\u001b[0m                         weight_bias_track \u001b[38;5;241m=\u001b[39m \u001b[38;5;28;01mFalse\u001b[39;00m, \n\u001b[1;32m      4\u001b[0m                         proj_name \u001b[38;5;241m=\u001b[39m \u001b[38;5;124m'\u001b[39m\u001b[38;5;124mpertnet\u001b[39m\u001b[38;5;124m'\u001b[39m, \n\u001b[1;32m      5\u001b[0m                         exp_name \u001b[38;5;241m=\u001b[39m \u001b[38;5;124m'\u001b[39m\u001b[38;5;124mpertnet\u001b[39m\u001b[38;5;124m'\u001b[39m)\n\u001b[1;32m      6\u001b[0m gears_model\u001b[38;5;241m.\u001b[39mmodel_initialize(hidden_size \u001b[38;5;241m=\u001b[39m \u001b[38;5;241m64\u001b[39m)\n\u001b[0;32m----> 7\u001b[0m \u001b[43mgears_model\u001b[49m\u001b[38;5;241;43m.\u001b[39;49m\u001b[43mtrain\u001b[49m\u001b[43m(\u001b[49m\u001b[43mepochs\u001b[49m\u001b[43m \u001b[49m\u001b[38;5;241;43m=\u001b[39;49m\u001b[43m \u001b[49m\u001b[38;5;241;43m20\u001b[39;49m\u001b[43m,\u001b[49m\u001b[43m \u001b[49m\u001b[43mlr\u001b[49m\u001b[43m \u001b[49m\u001b[38;5;241;43m=\u001b[39;49m\u001b[43m \u001b[49m\u001b[38;5;241;43m1e-3\u001b[39;49m\u001b[43m)\u001b[49m\n",
      "File \u001b[0;32m~/snap/snapd-desktop-integration/315/Desktop/PerturbationPredictionUsingGeneNetworks/gears/gears.py:527\u001b[0m, in \u001b[0;36mGEARS.train\u001b[0;34m(self, epochs, lr, weight_decay)\u001b[0m\n\u001b[1;32m    525\u001b[0m \u001b[38;5;28;01melse\u001b[39;00m:\n\u001b[1;32m    526\u001b[0m     pred \u001b[38;5;241m=\u001b[39m \u001b[38;5;28mself\u001b[39m\u001b[38;5;241m.\u001b[39mmodel(batch)\n\u001b[0;32m--> 527\u001b[0m     loss \u001b[38;5;241m=\u001b[39m \u001b[43mloss_fct\u001b[49m\u001b[43m(\u001b[49m\u001b[43mpred\u001b[49m\u001b[43m,\u001b[49m\u001b[43m \u001b[49m\u001b[43my\u001b[49m\u001b[43m,\u001b[49m\u001b[43m \u001b[49m\u001b[43mbatch\u001b[49m\u001b[38;5;241;43m.\u001b[39;49m\u001b[43mpert\u001b[49m\u001b[43m,\u001b[49m\n\u001b[1;32m    528\u001b[0m \u001b[43m                  \u001b[49m\u001b[43mctrl\u001b[49m\u001b[43m \u001b[49m\u001b[38;5;241;43m=\u001b[39;49m\u001b[43m \u001b[49m\u001b[38;5;28;43mself\u001b[39;49m\u001b[38;5;241;43m.\u001b[39;49m\u001b[43mctrl_expression\u001b[49m\u001b[43m,\u001b[49m\u001b[43m \u001b[49m\n\u001b[1;32m    529\u001b[0m \u001b[43m                  \u001b[49m\u001b[43mdict_filter\u001b[49m\u001b[43m \u001b[49m\u001b[38;5;241;43m=\u001b[39;49m\u001b[43m \u001b[49m\u001b[38;5;28;43mself\u001b[39;49m\u001b[38;5;241;43m.\u001b[39;49m\u001b[43mdict_filter\u001b[49m\u001b[43m,\u001b[49m\n\u001b[1;32m    530\u001b[0m \u001b[43m                  \u001b[49m\u001b[43mdirection_lambda\u001b[49m\u001b[43m \u001b[49m\u001b[38;5;241;43m=\u001b[39;49m\u001b[43m \u001b[49m\u001b[38;5;28;43mself\u001b[39;49m\u001b[38;5;241;43m.\u001b[39;49m\u001b[43mconfig\u001b[49m\u001b[43m[\u001b[49m\u001b[38;5;124;43m'\u001b[39;49m\u001b[38;5;124;43mdirection_lambda\u001b[39;49m\u001b[38;5;124;43m'\u001b[39;49m\u001b[43m]\u001b[49m\u001b[43m)\u001b[49m\n\u001b[1;32m    531\u001b[0m loss\u001b[38;5;241m.\u001b[39mbackward()\n\u001b[1;32m    532\u001b[0m nn\u001b[38;5;241m.\u001b[39mutils\u001b[38;5;241m.\u001b[39mclip_grad_value_(\u001b[38;5;28mself\u001b[39m\u001b[38;5;241m.\u001b[39mmodel\u001b[38;5;241m.\u001b[39mparameters(), clip_value\u001b[38;5;241m=\u001b[39m\u001b[38;5;241m1.0\u001b[39m)\n",
      "File \u001b[0;32m~/snap/snapd-desktop-integration/315/Desktop/PerturbationPredictionUsingGeneNetworks/gears/utils.py:412\u001b[0m, in \u001b[0;36mloss_fct\u001b[0;34m(pred, y, perts, ctrl, direction_lambda, dict_filter)\u001b[0m\n\u001b[1;32m    409\u001b[0m \u001b[38;5;66;03m# during training, we remove the all zero genes into calculation of loss.\u001b[39;00m\n\u001b[1;32m    410\u001b[0m \u001b[38;5;66;03m# this gives a cleaner direction loss. empirically, the performance stays the same.\u001b[39;00m\n\u001b[1;32m    411\u001b[0m \u001b[38;5;28;01mif\u001b[39;00m p\u001b[38;5;241m!=\u001b[39m \u001b[38;5;124m'\u001b[39m\u001b[38;5;124mctrl\u001b[39m\u001b[38;5;124m'\u001b[39m:\n\u001b[0;32m--> 412\u001b[0m     retain_idx \u001b[38;5;241m=\u001b[39m \u001b[43mdict_filter\u001b[49m\u001b[43m[\u001b[49m\u001b[43mp\u001b[49m\u001b[43m]\u001b[49m\n\u001b[1;32m    413\u001b[0m     pred_p \u001b[38;5;241m=\u001b[39m pred[pert_idx][:, retain_idx]\n\u001b[1;32m    414\u001b[0m     y_p \u001b[38;5;241m=\u001b[39m y[pert_idx][:, retain_idx]\n",
      "\u001b[0;31mKeyError\u001b[0m: np.str_('ctrl+MAST2')"
     ]
    }
   ],
   "source": [
    "pert_data.adata.uns[\"non_zeros_gene_idx\"] = non_zeros_gene_idx\n",
    "gears_model = GEARS(pert_data, device = 'cpu', \n",
    "                        weight_bias_track = False, \n",
    "                        proj_name = 'pertnet', \n",
    "                        exp_name = 'pertnet')\n",
    "gears_model.model_initialize(hidden_size = 64)\n",
    "gears_model.train(epochs = 20, lr = 1e-3)"
   ]
  },
  {
   "cell_type": "code",
   "execution_count": null,
   "metadata": {},
   "outputs": [],
   "source": []
  },
  {
   "cell_type": "code",
   "execution_count": null,
   "metadata": {},
   "outputs": [],
   "source": []
  }
 ],
 "metadata": {
  "kernelspec": {
   "display_name": "perturb (3.10.12)",
   "language": "python",
   "name": "python3"
  },
  "language_info": {
   "codemirror_mode": {
    "name": "ipython",
    "version": 3
   },
   "file_extension": ".py",
   "mimetype": "text/x-python",
   "name": "python",
   "nbconvert_exporter": "python",
   "pygments_lexer": "ipython3",
   "version": "3.10.12"
  }
 },
 "nbformat": 4,
 "nbformat_minor": 2
}
