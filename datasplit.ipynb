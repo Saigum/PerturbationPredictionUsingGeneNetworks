{
 "cells": [
  {
   "cell_type": "code",
   "execution_count": null,
   "metadata": {},
   "outputs": [],
   "source": [
    "import scanpy as sc\n",
    "import numpy as np\n",
    "import gc\n",
    "\n",
    "# Read data with backed mode to avoid loading everything into memory\n",
    "orig_path = \"/scratch/saigum/PerturbationPredictionUsingGeneNetworks/vcc_data/arc/perturb_processed.h5ad\"\n",
    "adata = sc.read_h5ad(orig_path)\n",
    "\n",
    "# Get condition information without loading full data\n",
    "conditions = adata.obs['condition'].values\n",
    "ctrl_mask = conditions == 'ctrl'\n",
    "pert_mask = ~ctrl_mask\n",
    "\n",
    "# Get unique perturbations\n",
    "pert_list = np.unique(conditions[pert_mask]).tolist()\n",
    "print(f\"Number of perturbations: {len(pert_list)}\")\n",
    "\n",
    "# Calculate split indices\n",
    "n_ctrl = np.sum(ctrl_mask)\n",
    "ctrl_split_idx = int(n_ctrl * 0.5)\n",
    "\n",
    "n_pert = len(pert_list)\n",
    "pert_split_idx = int(n_pert * 0.6)\n",
    "\n",
    "train_list = pert_list[:pert_split_idx]\n",
    "val_list = pert_list[pert_split_idx:]\n",
    "print(f\"Train perturbations: {len(train_list)}, Val perturbations: {len(val_list)}\")\n",
    "\n",
    "# Create masks for train/val split\n",
    "ctrl_indices = np.where(ctrl_mask)[0]\n",
    "train_ctrl_mask = np.zeros(len(conditions), dtype=bool)\n",
    "val_ctrl_mask = np.zeros(len(conditions), dtype=bool)\n",
    "\n",
    "train_ctrl_mask[ctrl_indices[:ctrl_split_idx]] = True\n",
    "val_ctrl_mask[ctrl_indices[ctrl_split_idx:]] = True\n",
    "\n",
    "# Create perturbation masks\n",
    "train_pert_mask = np.isin(conditions, train_list)\n",
    "val_pert_mask = np.isin(conditions, val_list)\n",
    "\n",
    "# Final train and validation masks\n",
    "train_mask = train_ctrl_mask | train_pert_mask\n",
    "val_mask = val_ctrl_mask | val_pert_mask\n",
    "\n",
    "# Process and save train data\n"
   ]
  },
  {
   "cell_type": "code",
   "execution_count": null,
   "metadata": {},
   "outputs": [],
   "source": [
    "print(\"Processing training data...\")\n",
    "adata_train = adata[train_mask]\n",
    "print(f\"Shape of adata train: {adata_train.shape}\")\n"
   ]
  },
  {
   "cell_type": "code",
   "execution_count": null,
   "metadata": {},
   "outputs": [],
   "source": [
    "\n",
    "# Save train data and immediately delete from memory\n",
    "adata_train.write_h5ad(\"/scratch/saigum/PerturbationPredictionUsingGeneNetworks/vcc_train/arc/perturb_processed.h5ad\")\n",
    "del adata_train\n",
    "gc.collect()"
   ]
  },
  {
   "cell_type": "code",
   "execution_count": null,
   "metadata": {},
   "outputs": [],
   "source": [
    "\n",
    "# Process and save validation data\n",
    "print(\"Processing validation data...\")\n",
    "adata_val = adata[val_mask]\n",
    "print(f\"Shape of adata val: {adata_val.shape}\")\n",
    "adata_val.write_h5ad(\"/scratch/saigum/PerturbationPredictionUsingGeneNetworks/vcc_val/arc/perturb_processed.h5ad\")\n",
    "del adata_val\n",
    "del adata\n",
    "gc.collect()\n",
    "\n",
    "print(\"Train and validation datasets created successfully.\")"
   ]
  },
  {
   "cell_type": "code",
   "execution_count": null,
   "metadata": {},
   "outputs": [],
   "source": [
    "(orig_path)\n",
    "ctrl_adata = adata[adata.obs['condition'] == 'ctrl']\n",
    "adata = adata[adata.obs['condition'] != 'ctrl']\n",
    "pert_list =  adata.obs['condition'].unique().tolist()\n",
    "## splitting ctrl 50-50 train-val\n",
    "ctrl_train = ctrl_adata[:int(len(ctrl_adata)*0.5)]\n",
    "ctrl_val = ctrl_adata[int(len(ctrl_adata)*0.5):]\n",
    "print(len(pert_list))\n",
    "#splitting 60 -40 train -val\n",
    "train_list = pert_list[:int(len(pert_list)*0.6)]\n",
    "val_list = pert_list[int(len(pert_list)*0.6):]\n",
    "print(len(train_list), len(val_list))\n",
    "adata_train = adata[adata.obs['condition'].isin(train_list)]\n",
    "adata_val = adata[adata.obs['condition'].isin(val_list)]\n",
    "## adding ctrl to train and val\n",
    "adata_train = adata_train.concat(ctrl_train,)\n",
    "adata_val = adata_val.concat(ctrl_val)\n",
    "\n",
    "print(f\"Shape of adata train: {adata_train.shape}\")\n",
    "print(f\"Shape of adata val: {adata_val.shape}\")\n",
    "adata_train.write_h5ad(\"/scratch/saigum/PerturbationPredictionUsingGeneNetworks/vcc_train/arc/perturb_processed.h5ad\")\n",
    "adata_val.write_h5ad(\"/scratch/saigum/PerturbationPredictionUsingGeneNetworks/vcc_val/arc/perturb_processed.h5ad\")\n",
    "print(\"Train and validation datasets created successfully.\")"
   ]
  },
  {
   "cell_type": "code",
   "execution_count": null,
   "metadata": {},
   "outputs": [],
   "source": [
    "from gears import PertData\n",
    "valpert_data = PertData('./vcc_data') # specific saved folder\n",
    "valpert_data.load(data_path=\"/scratch/saigum/PerturbationPredictionUsingGeneNetworks/vcc_data/arc_val/\")\n"
   ]
  },
  {
   "cell_type": "code",
   "execution_count": null,
   "metadata": {},
   "outputs": [],
   "source": []
  }
 ],
 "metadata": {
  "kernelspec": {
   "display_name": "perturb",
   "language": "python",
   "name": "python3"
  },
  "language_info": {
   "codemirror_mode": {
    "name": "ipython",
    "version": 3
   },
   "file_extension": ".py",
   "mimetype": "text/x-python",
   "name": "python",
   "nbconvert_exporter": "python",
   "pygments_lexer": "ipython3",
   "version": "3.13.3"
  }
 },
 "nbformat": 4,
 "nbformat_minor": 2
}
